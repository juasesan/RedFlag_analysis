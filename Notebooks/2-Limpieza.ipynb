{
 "cells": [
  {
   "cell_type": "code",
   "execution_count": 1,
   "id": "635ae96f",
   "metadata": {},
   "outputs": [],
   "source": [
    "import pandas as pd\n",
    "import json\n",
    "from pandas import json_normalize"
   ]
  },
  {
   "cell_type": "markdown",
   "id": "d38189da",
   "metadata": {},
   "source": [
    "## Creación de dataframes"
   ]
  },
  {
   "cell_type": "markdown",
   "id": "eb7a2274",
   "metadata": {},
   "source": [
    "#### Se requiere de 4 dataframes para obtener la información necesaria para cada Red Flag: Tender, Releases, Awards y Parties. Estos se formar a partir del archivo JSON generado anteriormente."
   ]
  },
  {
   "cell_type": "code",
   "execution_count": 2,
   "id": "6a6f814f",
   "metadata": {},
   "outputs": [],
   "source": [
    "with open('../Data_input/response.json', 'r', encoding=\"utf8\") as file:\n",
    "        data = json.load(file)"
   ]
  },
  {
   "cell_type": "markdown",
   "id": "d067d9d8",
   "metadata": {},
   "source": [
    "### Releases"
   ]
  },
  {
   "cell_type": "code",
   "execution_count": 3,
   "id": "5a1ea4d8",
   "metadata": {},
   "outputs": [],
   "source": [
    "dict_releases = {'ocid':[], 'id':[], 'date':[], 'buyer_id':[], 'buyer_name':[], 'contracts_id':[],\n",
    "                'contracts_status':[], 'contracts_awardID':[], 'contracts_value_amount':[],\n",
    "                'contracts_value_currency':[], 'contracts_dateSigned':[], 'planning_budget_amount':[]}"
   ]
  },
  {
   "cell_type": "code",
   "execution_count": 4,
   "id": "00951b42",
   "metadata": {
    "scrolled": true
   },
   "outputs": [],
   "source": [
    "for i in range(len(data)):\n",
    "    dict_releases['ocid'].append(data[i]['releases'][0]['ocid'])\n",
    "    dict_releases['id'].append(data[i]['releases'][0]['id'])\n",
    "    dict_releases['date'].append(data[i]['releases'][0]['date'])\n",
    "    dict_releases['buyer_id'].append(data[i]['releases'][0]['buyer']['id'])\n",
    "    dict_releases['buyer_name'].append(data[i]['releases'][0]['buyer']['name'])\n",
    "    try:\n",
    "        dict_releases['contracts_id'].append(data[i]['releases'][0]['contracts'][0]['id'])\n",
    "    except:\n",
    "        dict_releases['contracts_id'].append(None)\n",
    "    try:\n",
    "        dict_releases['contracts_status'].append(data[i]['releases'][0]['contracts'][0]['status'])\n",
    "    except:\n",
    "        dict_releases['contracts_status'].append(None)\n",
    "    try:\n",
    "        dict_releases['contracts_awardID'].append(data[i]['releases'][0]['contracts'][0]['awardID'])\n",
    "    except:\n",
    "        dict_releases['contracts_awardID'].append(None)\n",
    "    try:\n",
    "        dict_releases['contracts_dateSigned'].append(data[i]['releases'][0]['contracts'][0]['dateSigned'])\n",
    "    except:\n",
    "        dict_releases['contracts_dateSigned'].append(None)\n",
    "    try:\n",
    "        dict_releases['contracts_value_amount'].append(data[i]['releases'][0]['contracts'][0]['value']['amount'])\n",
    "    except:\n",
    "        dict_releases['contracts_value_amount'].append(None)    \n",
    "    try:\n",
    "        dict_releases['contracts_value_currency'].append(data[i]['releases'][0]['contracts'][0]['value']['currency'])\n",
    "    except:\n",
    "        dict_releases['contracts_value_currency'].append(None)\n",
    "    try:\n",
    "        dict_releases['planning_budget_amount'].append(data[i]['releases'][0]['planning']['budget']['amount']['amount'])\n",
    "    except:\n",
    "        dict_releases['planning_budget_amount'].append(None)"
   ]
  },
  {
   "cell_type": "code",
   "execution_count": 5,
   "id": "e8dab498",
   "metadata": {},
   "outputs": [],
   "source": [
    "releases = pd.DataFrame.from_dict(dict_releases)"
   ]
  },
  {
   "cell_type": "code",
   "execution_count": 6,
   "id": "e674cf73",
   "metadata": {},
   "outputs": [
    {
     "data": {
      "text/plain": [
       "(16128, 12)"
      ]
     },
     "execution_count": 6,
     "metadata": {},
     "output_type": "execute_result"
    }
   ],
   "source": [
    "releases.shape"
   ]
  },
  {
   "cell_type": "code",
   "execution_count": 7,
   "id": "b9fcf605",
   "metadata": {},
   "outputs": [],
   "source": [
    "releases.drop_duplicates(subset=[\"ocid\"],keep=\"last\", inplace=True)"
   ]
  },
  {
   "cell_type": "code",
   "execution_count": 8,
   "id": "3f99c632",
   "metadata": {},
   "outputs": [
    {
     "data": {
      "text/plain": [
       "(15417, 12)"
      ]
     },
     "execution_count": 8,
     "metadata": {},
     "output_type": "execute_result"
    }
   ],
   "source": [
    "releases.shape"
   ]
  },
  {
   "cell_type": "code",
   "execution_count": 9,
   "id": "fce9e20f",
   "metadata": {},
   "outputs": [],
   "source": [
    "releases['contracts_dateSigned'] = pd.to_datetime(releases['contracts_dateSigned']).dt.date\n",
    "releases['contracts_dateSigned'] = pd.to_datetime(releases['contracts_dateSigned'])"
   ]
  },
  {
   "cell_type": "code",
   "execution_count": 10,
   "id": "9fc490ed",
   "metadata": {},
   "outputs": [],
   "source": [
    "releases.to_csv('../Data_input/releases.csv', index=False)"
   ]
  },
  {
   "cell_type": "markdown",
   "id": "2e12150a",
   "metadata": {},
   "source": [
    "## Tender"
   ]
  },
  {
   "cell_type": "code",
   "execution_count": 11,
   "id": "c24cef0c",
   "metadata": {},
   "outputs": [],
   "source": [
    "dicc_tender = {'ocid':[],'id':[],'tenderPeriod':[],'procurementMethod':[],\n",
    "              'value':[],'tenderers':[],'procuringEntity':[],\n",
    "              'items':[],'numberOfTenderers':[],'enquiries':[],'enquiryPeriod':[],\n",
    "               'mainProcurementCategory':[],'procurementMethodDetails':[]}"
   ]
  },
  {
   "cell_type": "code",
   "execution_count": 12,
   "id": "29042fb7",
   "metadata": {},
   "outputs": [],
   "source": [
    "for i in range(len(data)):\n",
    "    dicc_tender['ocid'].append(data[i]['releases'][0]['ocid'])\n",
    "    for campo in dicc_tender.keys():\n",
    "        if campo != 'ocid':\n",
    "            try:\n",
    "                dicc_tender[campo].append(data[i]['releases'][0][\"tender\"][campo])\n",
    "            except:\n",
    "                dicc_tender[campo].append(None)"
   ]
  },
  {
   "cell_type": "code",
   "execution_count": 13,
   "id": "45416b44",
   "metadata": {},
   "outputs": [],
   "source": [
    "df = pd.DataFrame(dicc_tender)"
   ]
  },
  {
   "cell_type": "code",
   "execution_count": 14,
   "id": "4c6e1a12",
   "metadata": {},
   "outputs": [],
   "source": [
    "df.drop_duplicates(subset=[\"ocid\"],keep=\"last\", inplace=True)"
   ]
  },
  {
   "cell_type": "code",
   "execution_count": 15,
   "id": "09710e17",
   "metadata": {},
   "outputs": [],
   "source": [
    "df = df.reset_index(drop=True)"
   ]
  },
  {
   "cell_type": "code",
   "execution_count": 16,
   "id": "65b12606",
   "metadata": {},
   "outputs": [],
   "source": [
    "df.to_csv('../Data_input/tender.csv',index=False)"
   ]
  },
  {
   "cell_type": "markdown",
   "id": "9afbf333",
   "metadata": {},
   "source": [
    "## Awards"
   ]
  },
  {
   "cell_type": "code",
   "execution_count": 17,
   "id": "fece935c",
   "metadata": {
    "scrolled": true
   },
   "outputs": [],
   "source": [
    "# All\n",
    "ocidDF = pd.DataFrame()\n",
    "awardsDF = pd.DataFrame()\n",
    "for d in data:\n",
    "    ocid = d['releases'][0]['ocid']\n",
    "    if (ocid != \"ocds-5wno2w-003-MC-GPLR-2019-2805\") and (ocid != \"ocds-5wno2w-ARE-CBSE-001-2019-222424\") and (ocid != \"ocds-5wno2w-CB-FAME-001-2019-510646\") and (ocid != \"ocds-5wno2w-CBS-EPMAAM-001-2019-699688\") and (ocid != \"ocds-5wno2w-CDC-GADPRP-2019-001-107859\") and (ocid != \"ocds-5wno2w-CDC-GADPSO-2019-004-145156\") and (ocid != \"ocds-5wno2w-003-MC-GPLR-2019-2805\") :\n",
    "        awards = d['releases'][0]['awards']\n",
    "        df = pd.DataFrame([{\"ocid\":ocid}])\n",
    "        df2 = pd.DataFrame(awards)\n",
    "        ocidDF = pd.concat([ocidDF,df], ignore_index=True)\n",
    "        awardsDF = pd.concat([awardsDF,df2], ignore_index=True)"
   ]
  },
  {
   "cell_type": "code",
   "execution_count": 18,
   "id": "2d702d8c",
   "metadata": {},
   "outputs": [],
   "source": [
    "awardsDF = pd.concat([ocidDF,awardsDF], axis=1)"
   ]
  },
  {
   "cell_type": "code",
   "execution_count": 19,
   "id": "a802500f",
   "metadata": {},
   "outputs": [],
   "source": [
    "awardsDF.reset_index(drop=True, inplace=True)\n",
    "awardsDF.rename(columns = {'id':'id_award'}, inplace = True)"
   ]
  },
  {
   "cell_type": "code",
   "execution_count": 20,
   "id": "7a7e94a9",
   "metadata": {},
   "outputs": [],
   "source": [
    "awardsDF.drop_duplicates(subset=[\"ocid\"],keep=\"last\", inplace=True)"
   ]
  },
  {
   "cell_type": "code",
   "execution_count": 21,
   "id": "7d099ed5",
   "metadata": {},
   "outputs": [],
   "source": [
    "awardsDF = awardsDF.reset_index(drop=True)"
   ]
  },
  {
   "cell_type": "code",
   "execution_count": 22,
   "id": "fb24ec54",
   "metadata": {},
   "outputs": [
    {
     "data": {
      "text/plain": [
       "(15417, 9)"
      ]
     },
     "execution_count": 22,
     "metadata": {},
     "output_type": "execute_result"
    }
   ],
   "source": [
    "awardsDF.shape"
   ]
  },
  {
   "cell_type": "code",
   "execution_count": 23,
   "id": "441bdebc",
   "metadata": {},
   "outputs": [],
   "source": [
    "awardsDF.to_csv('../Data_input/awards.csv', index=False)"
   ]
  },
  {
   "cell_type": "markdown",
   "id": "5ec883f2",
   "metadata": {},
   "source": [
    "## Parties"
   ]
  },
  {
   "cell_type": "code",
   "execution_count": 24,
   "id": "fbbbf295",
   "metadata": {},
   "outputs": [],
   "source": [
    "def comprobarExistencia(dicc,llave):\n",
    "    try:\n",
    "        a=dicc[llave]\n",
    "        return a\n",
    "    except:\n",
    "        return None"
   ]
  },
  {
   "cell_type": "code",
   "execution_count": 25,
   "id": "90814af4",
   "metadata": {},
   "outputs": [],
   "source": [
    "diccParties={\"ocid\":[],\"id\":[],\"name\":[],\"roles\":[],\"address_region\":[],\"address_locality\":[],\"address_countryName\":[],\n",
    "            \"address_streetAddress\":[],\"address_postalCode\":[],\"identifier_id\":[],\"identifier_scheme\":[],\n",
    "            \"identifier_legalName\":[],\"contactPoint_name\":[],\"contactPoint_url\":[],\"contactPoint_email\":[],\n",
    "            \"contactPoint_telephone\":[]}"
   ]
  },
  {
   "cell_type": "code",
   "execution_count": 26,
   "id": "57268df8",
   "metadata": {},
   "outputs": [],
   "source": [
    "for i in data:\n",
    "    caso=i['releases'][0]\n",
    "    ocid=caso[\"ocid\"]\n",
    "    parties=caso['parties']\n",
    "    diccParties[\"ocid\"].append(ocid)\n",
    "    lista_id=[]\n",
    "    lista_name=[]\n",
    "    lista_roles=[]\n",
    "    lista_address_region=[]\n",
    "    lista_address_locality=[]\n",
    "    lista_address_countryName=[]\n",
    "    lista_address_streetAddress=[]\n",
    "    lista_address_postalCode=[]\n",
    "    lista_identifier_id=[]\n",
    "    lista_identifier_scheme=[]\n",
    "    lista_identifier_legalName=[]\n",
    "    lista_contactPoint_name=[]\n",
    "    lista_contactPoint_url=[]\n",
    "    lista_contactPoint_email=[]\n",
    "    lista_contactPoint_telephone=[]\n",
    "    for tender in parties:\n",
    "        lista_id.append(comprobarExistencia(tender,\"id\"))\n",
    "        lista_name.append(comprobarExistencia(tender,\"name\"))\n",
    "        lista_roles.append(comprobarExistencia(tender,\"roles\"))\n",
    "        lista_address_region.append(comprobarExistencia(comprobarExistencia(tender,\"address\"),\"region\"))\n",
    "        lista_address_locality.append(comprobarExistencia(comprobarExistencia(tender,\"address\"),\"locality\"))\n",
    "        lista_address_countryName.append(comprobarExistencia(comprobarExistencia(tender,\"address\"),\"countryName\"))\n",
    "        lista_address_streetAddress.append(comprobarExistencia(comprobarExistencia(tender,\"address\"),\"streetAddress\"))\n",
    "        lista_address_postalCode.append(comprobarExistencia(comprobarExistencia(tender,\"address\"),\"postalCode\"))\n",
    "        lista_identifier_id.append(comprobarExistencia(comprobarExistencia(tender,\"identifier\"),\"id\"))\n",
    "        lista_identifier_scheme.append(comprobarExistencia(comprobarExistencia(tender,\"identifier\"),\"scheme\"))\n",
    "        lista_identifier_legalName.append(comprobarExistencia(comprobarExistencia(tender,\"identifier\"),\"legalName\"))\n",
    "        lista_contactPoint_name.append(comprobarExistencia(comprobarExistencia(tender,\"contactPoint\"),\"name\"))\n",
    "        lista_contactPoint_url.append(comprobarExistencia(comprobarExistencia(tender,\"contactPoint\"),\"url\"))\n",
    "        lista_contactPoint_email.append(comprobarExistencia(comprobarExistencia(tender,\"contactPoint\"),\"email\"))\n",
    "        lista_contactPoint_telephone.append(comprobarExistencia(comprobarExistencia(tender,\"contactPoint\"),\"telephone\"))\n",
    "    diccParties[\"id\"].append(lista_id)\n",
    "    diccParties[\"name\"].append(lista_name)\n",
    "    diccParties[\"roles\"].append(lista_roles)\n",
    "    diccParties[\"address_region\"].append(lista_address_region)\n",
    "    diccParties[\"address_locality\"].append(lista_address_locality)\n",
    "    diccParties[\"address_countryName\"].append(lista_address_countryName)\n",
    "    diccParties[\"address_streetAddress\"].append(lista_address_streetAddress)\n",
    "    diccParties[\"address_postalCode\"].append(lista_address_postalCode)\n",
    "    diccParties[\"identifier_id\"].append(lista_identifier_id)\n",
    "    diccParties[\"identifier_scheme\"].append(lista_identifier_scheme)\n",
    "    diccParties[\"identifier_legalName\"].append(lista_identifier_legalName)\n",
    "    diccParties[\"contactPoint_name\"].append(lista_contactPoint_name)\n",
    "    diccParties[\"contactPoint_url\"].append(lista_contactPoint_url)\n",
    "    diccParties[\"contactPoint_email\"].append(lista_contactPoint_email)\n",
    "    diccParties[\"contactPoint_telephone\"].append(lista_contactPoint_telephone)"
   ]
  },
  {
   "cell_type": "code",
   "execution_count": 27,
   "id": "c58c6233",
   "metadata": {},
   "outputs": [],
   "source": [
    "df=pd.DataFrame(diccParties)"
   ]
  },
  {
   "cell_type": "code",
   "execution_count": 28,
   "id": "73c3ed07",
   "metadata": {},
   "outputs": [],
   "source": [
    "df.drop_duplicates(subset=[\"ocid\"], keep=\"last\", inplace = True)"
   ]
  },
  {
   "cell_type": "code",
   "execution_count": 29,
   "id": "ce65aeca",
   "metadata": {},
   "outputs": [],
   "source": [
    "df=df.reset_index(drop=True)"
   ]
  },
  {
   "cell_type": "code",
   "execution_count": 30,
   "id": "bee7cc9d",
   "metadata": {},
   "outputs": [],
   "source": [
    "parties=df\n",
    "parties = parties[parties['ocid'] != 'ocds-5wno2w-003-MC-GPLR-2019-2805']\n",
    "parties = parties[parties['ocid'] != 'ocds-5wno2w-ARE-CBSE-001-2019-222424']\n",
    "parties = parties[parties['ocid'] != 'ocds-5wno2w-CB-FAME-001-2019-510646']\n",
    "parties = parties[parties['ocid'] != 'ocds-5wno2w-CBS-EPMAAM-001-2019-699688']\n",
    "parties.reset_index(drop=True, inplace=True)"
   ]
  },
  {
   "cell_type": "code",
   "execution_count": 31,
   "id": "094dc331",
   "metadata": {},
   "outputs": [
    {
     "data": {
      "text/plain": [
       "(15417, 16)"
      ]
     },
     "execution_count": 31,
     "metadata": {},
     "output_type": "execute_result"
    }
   ],
   "source": [
    "parties.shape"
   ]
  },
  {
   "cell_type": "code",
   "execution_count": 32,
   "id": "325d72a2",
   "metadata": {},
   "outputs": [],
   "source": [
    "parties.to_csv(\"../Data_input/parties.csv\")"
   ]
  }
 ],
 "metadata": {
  "kernelspec": {
   "display_name": "Python 3",
   "language": "python",
   "name": "python3"
  },
  "language_info": {
   "codemirror_mode": {
    "name": "ipython",
    "version": 3
   },
   "file_extension": ".py",
   "mimetype": "text/x-python",
   "name": "python",
   "nbconvert_exporter": "python",
   "pygments_lexer": "ipython3",
   "version": "3.8.8"
  }
 },
 "nbformat": 4,
 "nbformat_minor": 5
}
