{
 "cells": [
  {
   "cell_type": "code",
   "execution_count": 1,
   "id": "d4922876",
   "metadata": {},
   "outputs": [],
   "source": [
    "import pandas as pd"
   ]
  },
  {
   "cell_type": "code",
   "execution_count": 2,
   "id": "7c61897a",
   "metadata": {},
   "outputs": [],
   "source": [
    "years = ['2019', '2020', '2021']"
   ]
  },
  {
   "cell_type": "code",
   "execution_count": 3,
   "id": "9c15de65",
   "metadata": {},
   "outputs": [],
   "source": [
    "def join_year(dataset, years):\n",
    "    dfs = []\n",
    "    for year in years:       \n",
    "        dfs.append(pd.read_csv('../Data_input/{0}/{1}_{0}.csv'.format(year, dataset)))\n",
    "    return pd.concat([dfs[0], dfs[1], dfs[2]])"
   ]
  },
  {
   "cell_type": "code",
   "execution_count": 4,
   "id": "e7ab0cf8",
   "metadata": {},
   "outputs": [
    {
     "name": "stderr",
     "output_type": "stream",
     "text": [
      "C:\\Users\\kuinc\\anaconda3\\lib\\site-packages\\IPython\\core\\interactiveshell.py:3357: DtypeWarning: Columns (4,6,13,14) have mixed types.Specify dtype option on import or set low_memory=False.\n",
      "  if (await self.run_code(code, result,  async_=asy)):\n",
      "C:\\Users\\kuinc\\anaconda3\\lib\\site-packages\\IPython\\core\\interactiveshell.py:3357: DtypeWarning: Columns (7,8,12,13) have mixed types.Specify dtype option on import or set low_memory=False.\n",
      "  if (await self.run_code(code, result,  async_=asy)):\n",
      "C:\\Users\\kuinc\\anaconda3\\lib\\site-packages\\IPython\\core\\interactiveshell.py:3357: DtypeWarning: Columns (12,13,14,15,16,18,19,20,22,23,24,25,26) have mixed types.Specify dtype option on import or set low_memory=False.\n",
      "  if (await self.run_code(code, result,  async_=asy)):\n"
     ]
    }
   ],
   "source": [
    "awards = join_year('awards', years)\n",
    "contratcs = join_year('contracts', years)\n",
    "planning = join_year('planning', years)\n",
    "releases = join_year('releases', years)\n",
    "suppliers = join_year('suppliers', years)\n",
    "tender = join_year('tender', years)"
   ]
  },
  {
   "cell_type": "code",
   "execution_count": 5,
   "id": "5a24551f",
   "metadata": {},
   "outputs": [],
   "source": [
    "awards.to_csv('../Data_output/awards.csv')\n",
    "contratcs.to_csv('../Data_output/contratcs.csv')\n",
    "planning.to_csv('../Data_output/planning.csv')\n",
    "releases.to_csv('../Data_output/releases.csv')\n",
    "suppliers.to_csv('../Data_output/suppliers.csv')\n",
    "tender.to_csv('../Data_output/tender.csv')"
   ]
  }
 ],
 "metadata": {
  "kernelspec": {
   "display_name": "Python 3",
   "language": "python",
   "name": "python3"
  },
  "language_info": {
   "codemirror_mode": {
    "name": "ipython",
    "version": 3
   },
   "file_extension": ".py",
   "mimetype": "text/x-python",
   "name": "python",
   "nbconvert_exporter": "python",
   "pygments_lexer": "ipython3",
   "version": "3.8.8"
  }
 },
 "nbformat": 4,
 "nbformat_minor": 5
}
