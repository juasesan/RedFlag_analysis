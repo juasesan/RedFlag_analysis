{
 "cells": [
  {
   "cell_type": "code",
   "execution_count": 1,
   "id": "5df09cdc",
   "metadata": {},
   "outputs": [],
   "source": [
    "import pandas as pd\n",
    "import numpy as np\n",
    "from sklearn.preprocessing import StandardScaler\n",
    "from sklearn.cluster import KMeans\n",
    "import seaborn as sns\n",
    "import matplotlib.pyplot as plt"
   ]
  },
  {
   "cell_type": "code",
   "execution_count": 2,
   "id": "052779b8",
   "metadata": {},
   "outputs": [],
   "source": [
    "data = pd.read_csv('../Data_output/red_flags.csv')\n",
    "tender = pd.read_csv('../Data_input/tender.csv')\n",
    "parties = pd.read_csv('../Data_input/parties.csv')"
   ]
  },
  {
   "cell_type": "markdown",
   "id": "6b0c265c",
   "metadata": {},
   "source": [
    "## Features derivation"
   ]
  },
  {
   "cell_type": "code",
   "execution_count": 3,
   "id": "976645c8",
   "metadata": {},
   "outputs": [],
   "source": [
    "data.drop(columns=['Unnamed: 0'], inplace=True)"
   ]
  },
  {
   "cell_type": "code",
   "execution_count": 4,
   "id": "490f1924",
   "metadata": {},
   "outputs": [
    {
     "data": {
      "text/plain": [
       "(1371, 18)"
      ]
     },
     "execution_count": 4,
     "metadata": {},
     "output_type": "execute_result"
    }
   ],
   "source": [
    "data.shape"
   ]
  },
  {
   "cell_type": "code",
   "execution_count": 5,
   "id": "1b384265",
   "metadata": {},
   "outputs": [
    {
     "data": {
      "text/html": [
       "<div>\n",
       "<style scoped>\n",
       "    .dataframe tbody tr th:only-of-type {\n",
       "        vertical-align: middle;\n",
       "    }\n",
       "\n",
       "    .dataframe tbody tr th {\n",
       "        vertical-align: top;\n",
       "    }\n",
       "\n",
       "    .dataframe thead th {\n",
       "        text-align: right;\n",
       "    }\n",
       "</style>\n",
       "<table border=\"1\" class=\"dataframe\">\n",
       "  <thead>\n",
       "    <tr style=\"text-align: right;\">\n",
       "      <th></th>\n",
       "      <th>procuringEntity_name</th>\n",
       "      <th>NF003</th>\n",
       "      <th>NF010</th>\n",
       "      <th>NF016</th>\n",
       "      <th>NF018</th>\n",
       "      <th>NF026</th>\n",
       "      <th>NF027</th>\n",
       "      <th>NF031</th>\n",
       "      <th>NF042</th>\n",
       "      <th>NF044</th>\n",
       "      <th>NF047</th>\n",
       "      <th>NF059</th>\n",
       "      <th>NF061</th>\n",
       "      <th>NF062</th>\n",
       "      <th>NF063</th>\n",
       "      <th>RF cases</th>\n",
       "      <th>Total cases</th>\n",
       "      <th>Total RF</th>\n",
       "    </tr>\n",
       "  </thead>\n",
       "  <tbody>\n",
       "    <tr>\n",
       "      <th>0</th>\n",
       "      <td>ACCION SOCIAL COMO ENTIDAD DE INCLUSION SOCIAL...</td>\n",
       "      <td>0</td>\n",
       "      <td>0</td>\n",
       "      <td>0</td>\n",
       "      <td>0</td>\n",
       "      <td>0</td>\n",
       "      <td>0</td>\n",
       "      <td>0</td>\n",
       "      <td>0</td>\n",
       "      <td>0</td>\n",
       "      <td>1</td>\n",
       "      <td>0</td>\n",
       "      <td>0</td>\n",
       "      <td>0</td>\n",
       "      <td>0</td>\n",
       "      <td>1</td>\n",
       "      <td>1</td>\n",
       "      <td>1</td>\n",
       "    </tr>\n",
       "    <tr>\n",
       "      <th>1</th>\n",
       "      <td>ACERIAS NACIONALES DEL ECUADOR SOCIEDAD ANONIM...</td>\n",
       "      <td>2</td>\n",
       "      <td>0</td>\n",
       "      <td>0</td>\n",
       "      <td>0</td>\n",
       "      <td>1</td>\n",
       "      <td>1</td>\n",
       "      <td>0</td>\n",
       "      <td>2</td>\n",
       "      <td>0</td>\n",
       "      <td>3</td>\n",
       "      <td>1</td>\n",
       "      <td>1</td>\n",
       "      <td>2</td>\n",
       "      <td>0</td>\n",
       "      <td>6</td>\n",
       "      <td>9</td>\n",
       "      <td>13</td>\n",
       "    </tr>\n",
       "    <tr>\n",
       "      <th>2</th>\n",
       "      <td>AGENCIA DE REGULACIÓN Y CONTROL FITO Y ZOOSANI...</td>\n",
       "      <td>0</td>\n",
       "      <td>0</td>\n",
       "      <td>0</td>\n",
       "      <td>0</td>\n",
       "      <td>0</td>\n",
       "      <td>0</td>\n",
       "      <td>0</td>\n",
       "      <td>24</td>\n",
       "      <td>0</td>\n",
       "      <td>49</td>\n",
       "      <td>0</td>\n",
       "      <td>0</td>\n",
       "      <td>0</td>\n",
       "      <td>0</td>\n",
       "      <td>57</td>\n",
       "      <td>109</td>\n",
       "      <td>73</td>\n",
       "    </tr>\n",
       "    <tr>\n",
       "      <th>3</th>\n",
       "      <td>AGENCIA NACIONAL DE REGULACION, CONTROL Y VIGI...</td>\n",
       "      <td>0</td>\n",
       "      <td>0</td>\n",
       "      <td>0</td>\n",
       "      <td>0</td>\n",
       "      <td>0</td>\n",
       "      <td>0</td>\n",
       "      <td>0</td>\n",
       "      <td>3</td>\n",
       "      <td>0</td>\n",
       "      <td>6</td>\n",
       "      <td>0</td>\n",
       "      <td>0</td>\n",
       "      <td>0</td>\n",
       "      <td>0</td>\n",
       "      <td>8</td>\n",
       "      <td>11</td>\n",
       "      <td>9</td>\n",
       "    </tr>\n",
       "    <tr>\n",
       "      <th>4</th>\n",
       "      <td>AGENCIA NACIONAL DE REGULACIÓN Y CONTROL DEL T...</td>\n",
       "      <td>2</td>\n",
       "      <td>0</td>\n",
       "      <td>0</td>\n",
       "      <td>0</td>\n",
       "      <td>1</td>\n",
       "      <td>0</td>\n",
       "      <td>0</td>\n",
       "      <td>1</td>\n",
       "      <td>0</td>\n",
       "      <td>2</td>\n",
       "      <td>0</td>\n",
       "      <td>0</td>\n",
       "      <td>2</td>\n",
       "      <td>0</td>\n",
       "      <td>2</td>\n",
       "      <td>2</td>\n",
       "      <td>8</td>\n",
       "    </tr>\n",
       "  </tbody>\n",
       "</table>\n",
       "</div>"
      ],
      "text/plain": [
       "                                procuringEntity_name  NF003  NF010  NF016  \\\n",
       "0  ACCION SOCIAL COMO ENTIDAD DE INCLUSION SOCIAL...      0      0      0   \n",
       "1  ACERIAS NACIONALES DEL ECUADOR SOCIEDAD ANONIM...      2      0      0   \n",
       "2  AGENCIA DE REGULACIÓN Y CONTROL FITO Y ZOOSANI...      0      0      0   \n",
       "3  AGENCIA NACIONAL DE REGULACION, CONTROL Y VIGI...      0      0      0   \n",
       "4  AGENCIA NACIONAL DE REGULACIÓN Y CONTROL DEL T...      2      0      0   \n",
       "\n",
       "   NF018  NF026  NF027  NF031  NF042  NF044  NF047  NF059  NF061  NF062  \\\n",
       "0      0      0      0      0      0      0      1      0      0      0   \n",
       "1      0      1      1      0      2      0      3      1      1      2   \n",
       "2      0      0      0      0     24      0     49      0      0      0   \n",
       "3      0      0      0      0      3      0      6      0      0      0   \n",
       "4      0      1      0      0      1      0      2      0      0      2   \n",
       "\n",
       "   NF063  RF cases  Total cases  Total RF  \n",
       "0      0         1            1         1  \n",
       "1      0         6            9        13  \n",
       "2      0        57          109        73  \n",
       "3      0         8           11         9  \n",
       "4      0         2            2         8  "
      ]
     },
     "execution_count": 5,
     "metadata": {},
     "output_type": "execute_result"
    }
   ],
   "source": [
    "data.head()"
   ]
  },
  {
   "cell_type": "markdown",
   "id": "fdb92aa4",
   "metadata": {},
   "source": [
    "## Creación y análisis de nuevos grupos de Red Flags"
   ]
  },
  {
   "cell_type": "markdown",
   "id": "b1296f04",
   "metadata": {},
   "source": [
    "Salidas de cada Red Flag\n",
    "#### - NF003\n",
    "    - Datos de fechas, duraciones en días\n",
    "#### - NF010\n",
    "    - Cantidades de dinero, valores de bienes\n",
    "#### - NF011\n",
    "    - Dinero\n",
    "#### - NF025\n",
    "    - Ocurrencias de éxito de entidades\n",
    "#### - NF026\n",
    "    - Formación de grupos por Id de entidades participantes y ganadoras\n",
    "#### - NF027\n",
    "    - Regiones, mayores ofertas por ubicaciones\n",
    "#### - NF031\n",
    "    - Dinero, pagos, presupuesto\n",
    "#### - NF042, NF044, NF047\n",
    "    - Falta de información personal para las ofertas\n",
    "#### - NF059\n",
    "    - Dinero\n",
    "#### - NF061, 62, 63\n",
    "    - Tiempo, tiempo, tiempo"
   ]
  },
  {
   "cell_type": "markdown",
   "id": "04c26515",
   "metadata": {},
   "source": [
    "## Nuevas categorías unidas"
   ]
  },
  {
   "cell_type": "code",
   "execution_count": 10,
   "id": "3c32f821",
   "metadata": {},
   "outputs": [],
   "source": [
    "dinero = ['NF010','NF031','NF059', 'NF011', 'NF016']\n",
    "tiempo = ['NF003','NF061','NF062','NF063']\n",
    "informacion = ['NF042','NF044','NF047']\n",
    "frecuencias = ['NF018','NF019','NF026','NF027']"
   ]
  },
  {
   "cell_type": "code",
   "execution_count": 11,
   "id": "4177edc8",
   "metadata": {},
   "outputs": [],
   "source": [
    "total_ocurr = data['Total RF']\n",
    "money = data[dinero].sum(axis=1) / total_ocurr\n",
    "time = data[tiempo].sum(axis=1) / total_ocurr\n",
    "information = data[informacion].sum(axis=1) / total_ocurr\n",
    "frequencies = data[frecuencias].sum(axis=1) / total_ocurr"
   ]
  },
  {
   "cell_type": "code",
   "execution_count": 12,
   "id": "c9bd08ef",
   "metadata": {},
   "outputs": [],
   "source": [
    "data_reduce = pd.concat([data,money,time,information,frequencies], axis=1)\n",
    "data_reduce = pd.concat([data_reduce.iloc[:,0],data_reduce.iloc[:,-4:]], axis=1)\n",
    "data_reduce.columns = ['entidades','money','time','information','frequencies']"
   ]
  },
  {
   "cell_type": "code",
   "execution_count": 13,
   "id": "d0b9f227",
   "metadata": {},
   "outputs": [
    {
     "data": {
      "text/html": [
       "<div>\n",
       "<style scoped>\n",
       "    .dataframe tbody tr th:only-of-type {\n",
       "        vertical-align: middle;\n",
       "    }\n",
       "\n",
       "    .dataframe tbody tr th {\n",
       "        vertical-align: top;\n",
       "    }\n",
       "\n",
       "    .dataframe thead th {\n",
       "        text-align: right;\n",
       "    }\n",
       "</style>\n",
       "<table border=\"1\" class=\"dataframe\">\n",
       "  <thead>\n",
       "    <tr style=\"text-align: right;\">\n",
       "      <th></th>\n",
       "      <th>entidades</th>\n",
       "      <th>money</th>\n",
       "      <th>time</th>\n",
       "      <th>information</th>\n",
       "      <th>frequencies</th>\n",
       "    </tr>\n",
       "  </thead>\n",
       "  <tbody>\n",
       "    <tr>\n",
       "      <th>0</th>\n",
       "      <td>ACCION SOCIAL COMO ENTIDAD DE INCLUSION SOCIAL...</td>\n",
       "      <td>0.000000</td>\n",
       "      <td>0.000000</td>\n",
       "      <td>1.000000</td>\n",
       "      <td>0.000000</td>\n",
       "    </tr>\n",
       "    <tr>\n",
       "      <th>1</th>\n",
       "      <td>ACERIAS NACIONALES DEL ECUADOR SOCIEDAD ANONIM...</td>\n",
       "      <td>0.111111</td>\n",
       "      <td>0.555556</td>\n",
       "      <td>0.555556</td>\n",
       "      <td>0.333333</td>\n",
       "    </tr>\n",
       "    <tr>\n",
       "      <th>2</th>\n",
       "      <td>AGENCIA DE REGULACIÓN Y CONTROL FITO Y ZOOSANI...</td>\n",
       "      <td>0.000000</td>\n",
       "      <td>0.000000</td>\n",
       "      <td>0.669725</td>\n",
       "      <td>0.000000</td>\n",
       "    </tr>\n",
       "    <tr>\n",
       "      <th>3</th>\n",
       "      <td>AGENCIA NACIONAL DE REGULACION, CONTROL Y VIGI...</td>\n",
       "      <td>0.000000</td>\n",
       "      <td>0.000000</td>\n",
       "      <td>0.818182</td>\n",
       "      <td>0.000000</td>\n",
       "    </tr>\n",
       "    <tr>\n",
       "      <th>4</th>\n",
       "      <td>AGENCIA NACIONAL DE REGULACIÓN Y CONTROL DEL T...</td>\n",
       "      <td>0.000000</td>\n",
       "      <td>2.000000</td>\n",
       "      <td>1.500000</td>\n",
       "      <td>1.000000</td>\n",
       "    </tr>\n",
       "    <tr>\n",
       "      <th>...</th>\n",
       "      <td>...</td>\n",
       "      <td>...</td>\n",
       "      <td>...</td>\n",
       "      <td>...</td>\n",
       "      <td>...</td>\n",
       "    </tr>\n",
       "    <tr>\n",
       "      <th>1366</th>\n",
       "      <td>junta parroquial de cuyuja</td>\n",
       "      <td>0.000000</td>\n",
       "      <td>0.000000</td>\n",
       "      <td>1.000000</td>\n",
       "      <td>0.000000</td>\n",
       "    </tr>\n",
       "    <tr>\n",
       "      <th>1367</th>\n",
       "      <td>junta parroquial la tola</td>\n",
       "      <td>0.000000</td>\n",
       "      <td>0.000000</td>\n",
       "      <td>1.000000</td>\n",
       "      <td>0.000000</td>\n",
       "    </tr>\n",
       "    <tr>\n",
       "      <th>1368</th>\n",
       "      <td>juntaparroquialbuenavista</td>\n",
       "      <td>0.000000</td>\n",
       "      <td>0.000000</td>\n",
       "      <td>1.333333</td>\n",
       "      <td>0.000000</td>\n",
       "    </tr>\n",
       "    <tr>\n",
       "      <th>1369</th>\n",
       "      <td>juntaparroquialsalango</td>\n",
       "      <td>0.000000</td>\n",
       "      <td>0.000000</td>\n",
       "      <td>1.000000</td>\n",
       "      <td>0.000000</td>\n",
       "    </tr>\n",
       "    <tr>\n",
       "      <th>1370</th>\n",
       "      <td>museo y parque arqueologico pumapungo</td>\n",
       "      <td>0.000000</td>\n",
       "      <td>0.000000</td>\n",
       "      <td>1.000000</td>\n",
       "      <td>0.000000</td>\n",
       "    </tr>\n",
       "  </tbody>\n",
       "</table>\n",
       "<p>1371 rows × 5 columns</p>\n",
       "</div>"
      ],
      "text/plain": [
       "                                              entidades     money      time  \\\n",
       "0     ACCION SOCIAL COMO ENTIDAD DE INCLUSION SOCIAL...  0.000000  0.000000   \n",
       "1     ACERIAS NACIONALES DEL ECUADOR SOCIEDAD ANONIM...  0.111111  0.555556   \n",
       "2     AGENCIA DE REGULACIÓN Y CONTROL FITO Y ZOOSANI...  0.000000  0.000000   \n",
       "3     AGENCIA NACIONAL DE REGULACION, CONTROL Y VIGI...  0.000000  0.000000   \n",
       "4     AGENCIA NACIONAL DE REGULACIÓN Y CONTROL DEL T...  0.000000  2.000000   \n",
       "...                                                 ...       ...       ...   \n",
       "1366                         junta parroquial de cuyuja  0.000000  0.000000   \n",
       "1367                           junta parroquial la tola  0.000000  0.000000   \n",
       "1368                          juntaparroquialbuenavista  0.000000  0.000000   \n",
       "1369                             juntaparroquialsalango  0.000000  0.000000   \n",
       "1370              museo y parque arqueologico pumapungo  0.000000  0.000000   \n",
       "\n",
       "      information  frequencies  \n",
       "0        1.000000     0.000000  \n",
       "1        0.555556     0.333333  \n",
       "2        0.669725     0.000000  \n",
       "3        0.818182     0.000000  \n",
       "4        1.500000     1.000000  \n",
       "...           ...          ...  \n",
       "1366     1.000000     0.000000  \n",
       "1367     1.000000     0.000000  \n",
       "1368     1.333333     0.000000  \n",
       "1369     1.000000     0.000000  \n",
       "1370     1.000000     0.000000  \n",
       "\n",
       "[1371 rows x 5 columns]"
      ]
     },
     "execution_count": 13,
     "metadata": {},
     "output_type": "execute_result"
    }
   ],
   "source": [
    "data_reduce"
   ]
  },
  {
   "cell_type": "markdown",
   "id": "a5445342",
   "metadata": {},
   "source": [
    "## Método de codo"
   ]
  },
  {
   "cell_type": "code",
   "execution_count": 14,
   "id": "7887e586",
   "metadata": {},
   "outputs": [
    {
     "data": {
      "text/html": [
       "<div>\n",
       "<style scoped>\n",
       "    .dataframe tbody tr th:only-of-type {\n",
       "        vertical-align: middle;\n",
       "    }\n",
       "\n",
       "    .dataframe tbody tr th {\n",
       "        vertical-align: top;\n",
       "    }\n",
       "\n",
       "    .dataframe thead th {\n",
       "        text-align: right;\n",
       "    }\n",
       "</style>\n",
       "<table border=\"1\" class=\"dataframe\">\n",
       "  <thead>\n",
       "    <tr style=\"text-align: right;\">\n",
       "      <th></th>\n",
       "      <th>money</th>\n",
       "      <th>time</th>\n",
       "      <th>information</th>\n",
       "      <th>frequencies</th>\n",
       "    </tr>\n",
       "  </thead>\n",
       "  <tbody>\n",
       "    <tr>\n",
       "      <th>money</th>\n",
       "      <td>1.000000</td>\n",
       "      <td>0.139630</td>\n",
       "      <td>0.018426</td>\n",
       "      <td>0.191859</td>\n",
       "    </tr>\n",
       "    <tr>\n",
       "      <th>time</th>\n",
       "      <td>0.139630</td>\n",
       "      <td>1.000000</td>\n",
       "      <td>0.112841</td>\n",
       "      <td>0.772147</td>\n",
       "    </tr>\n",
       "    <tr>\n",
       "      <th>information</th>\n",
       "      <td>0.018426</td>\n",
       "      <td>0.112841</td>\n",
       "      <td>1.000000</td>\n",
       "      <td>0.134467</td>\n",
       "    </tr>\n",
       "    <tr>\n",
       "      <th>frequencies</th>\n",
       "      <td>0.191859</td>\n",
       "      <td>0.772147</td>\n",
       "      <td>0.134467</td>\n",
       "      <td>1.000000</td>\n",
       "    </tr>\n",
       "  </tbody>\n",
       "</table>\n",
       "</div>"
      ],
      "text/plain": [
       "                money      time  information  frequencies\n",
       "money        1.000000  0.139630     0.018426     0.191859\n",
       "time         0.139630  1.000000     0.112841     0.772147\n",
       "information  0.018426  0.112841     1.000000     0.134467\n",
       "frequencies  0.191859  0.772147     0.134467     1.000000"
      ]
     },
     "execution_count": 14,
     "metadata": {},
     "output_type": "execute_result"
    }
   ],
   "source": [
    "data_reduce.corr()"
   ]
  },
  {
   "cell_type": "code",
   "execution_count": 15,
   "id": "6962ee88",
   "metadata": {},
   "outputs": [],
   "source": [
    "X = data_reduce.iloc[:,1:]"
   ]
  },
  {
   "cell_type": "code",
   "execution_count": 16,
   "id": "a9c6fda2",
   "metadata": {},
   "outputs": [
    {
     "data": {
      "text/plain": [
       "StandardScaler()"
      ]
     },
     "execution_count": 16,
     "metadata": {},
     "output_type": "execute_result"
    }
   ],
   "source": [
    "sc = StandardScaler()\n",
    "sc.fit(X)"
   ]
  },
  {
   "cell_type": "code",
   "execution_count": 17,
   "id": "0598c8e3",
   "metadata": {},
   "outputs": [],
   "source": [
    "X_norm = sc.transform(X)"
   ]
  },
  {
   "cell_type": "code",
   "execution_count": 18,
   "id": "331655c7",
   "metadata": {},
   "outputs": [],
   "source": [
    "clusters = np.arange(2,11)"
   ]
  },
  {
   "cell_type": "code",
   "execution_count": 19,
   "id": "fbab2cf0",
   "metadata": {},
   "outputs": [],
   "source": [
    "inercias = []\n",
    "for k in clusters:\n",
    "    kmeans = KMeans(n_clusters=k, random_state=0)\n",
    "    kmeans.fit(X_norm)\n",
    "    inercias.append(kmeans.inertia_)"
   ]
  },
  {
   "cell_type": "code",
   "execution_count": 20,
   "id": "bf9e72f6",
   "metadata": {},
   "outputs": [],
   "source": [
    "eva = pd.DataFrame({\"K\": clusters, \"inercia\": inercias})"
   ]
  },
  {
   "cell_type": "code",
   "execution_count": 21,
   "id": "a94e449d",
   "metadata": {},
   "outputs": [
    {
     "data": {
      "text/html": [
       "<div>\n",
       "<style scoped>\n",
       "    .dataframe tbody tr th:only-of-type {\n",
       "        vertical-align: middle;\n",
       "    }\n",
       "\n",
       "    .dataframe tbody tr th {\n",
       "        vertical-align: top;\n",
       "    }\n",
       "\n",
       "    .dataframe thead th {\n",
       "        text-align: right;\n",
       "    }\n",
       "</style>\n",
       "<table border=\"1\" class=\"dataframe\">\n",
       "  <thead>\n",
       "    <tr style=\"text-align: right;\">\n",
       "      <th></th>\n",
       "      <th>K</th>\n",
       "      <th>inercia</th>\n",
       "    </tr>\n",
       "  </thead>\n",
       "  <tbody>\n",
       "    <tr>\n",
       "      <th>0</th>\n",
       "      <td>2</td>\n",
       "      <td>3493.968112</td>\n",
       "    </tr>\n",
       "    <tr>\n",
       "      <th>1</th>\n",
       "      <td>3</td>\n",
       "      <td>2529.747793</td>\n",
       "    </tr>\n",
       "    <tr>\n",
       "      <th>2</th>\n",
       "      <td>4</td>\n",
       "      <td>1732.640933</td>\n",
       "    </tr>\n",
       "    <tr>\n",
       "      <th>3</th>\n",
       "      <td>5</td>\n",
       "      <td>1432.353232</td>\n",
       "    </tr>\n",
       "    <tr>\n",
       "      <th>4</th>\n",
       "      <td>6</td>\n",
       "      <td>1174.346238</td>\n",
       "    </tr>\n",
       "    <tr>\n",
       "      <th>5</th>\n",
       "      <td>7</td>\n",
       "      <td>1038.254078</td>\n",
       "    </tr>\n",
       "    <tr>\n",
       "      <th>6</th>\n",
       "      <td>8</td>\n",
       "      <td>917.417547</td>\n",
       "    </tr>\n",
       "    <tr>\n",
       "      <th>7</th>\n",
       "      <td>9</td>\n",
       "      <td>794.567054</td>\n",
       "    </tr>\n",
       "    <tr>\n",
       "      <th>8</th>\n",
       "      <td>10</td>\n",
       "      <td>735.501716</td>\n",
       "    </tr>\n",
       "  </tbody>\n",
       "</table>\n",
       "</div>"
      ],
      "text/plain": [
       "    K      inercia\n",
       "0   2  3493.968112\n",
       "1   3  2529.747793\n",
       "2   4  1732.640933\n",
       "3   5  1432.353232\n",
       "4   6  1174.346238\n",
       "5   7  1038.254078\n",
       "6   8   917.417547\n",
       "7   9   794.567054\n",
       "8  10   735.501716"
      ]
     },
     "execution_count": 21,
     "metadata": {},
     "output_type": "execute_result"
    }
   ],
   "source": [
    "eva"
   ]
  },
  {
   "cell_type": "code",
   "execution_count": 22,
   "id": "9976d4df",
   "metadata": {},
   "outputs": [
    {
     "data": {
      "text/plain": [
       "<AxesSubplot:xlabel='K', ylabel='inercia'>"
      ]
     },
     "execution_count": 22,
     "metadata": {},
     "output_type": "execute_result"
    },
    {
     "data": {
      "image/png": "[encoded data removed]",
      "text/plain": [
       "<Figure size 720x576 with 1 Axes>"
      ]
     },
     "metadata": {
      "needs_background": "light"
     },
     "output_type": "display_data"
    }
   ],
   "source": [
    "fig, ax = plt.subplots(figsize=(10,8))\n",
    "sns.lineplot(data = eva, x = \"K\", y = \"inercia\")"
   ]
  },
  {
   "cell_type": "markdown",
   "id": "0fdaec23",
   "metadata": {},
   "source": [
    "## Clustering"
   ]
  },
  {
   "cell_type": "code",
   "execution_count": 23,
   "id": "095b1d7e",
   "metadata": {},
   "outputs": [],
   "source": [
    "kmeans2 = KMeans(n_clusters=4, random_state=0)"
   ]
  },
  {
   "cell_type": "code",
   "execution_count": 24,
   "id": "467b62b1",
   "metadata": {},
   "outputs": [
    {
     "data": {
      "text/plain": [
       "KMeans(n_clusters=4, random_state=0)"
      ]
     },
     "execution_count": 24,
     "metadata": {},
     "output_type": "execute_result"
    }
   ],
   "source": [
    "kmeans2.fit(X_norm)"
   ]
  },
  {
   "cell_type": "code",
   "execution_count": 25,
   "id": "9aa049b8",
   "metadata": {
    "scrolled": true
   },
   "outputs": [
    {
     "data": {
      "text/plain": [
       "array([[-0.09968923, -0.2228171 , -1.32377631, -0.2158432 ],\n",
       "       [ 0.03129586,  4.01045253,  0.51336171,  3.50311479],\n",
       "       [ 8.37842733,  1.04185482,  0.30039743,  1.40045749],\n",
       "       [-0.09809419, -0.19298301,  0.44676092, -0.16856464]])"
      ]
     },
     "execution_count": 25,
     "metadata": {},
     "output_type": "execute_result"
    }
   ],
   "source": [
    "kmeans2.cluster_centers_"
   ]
  },
  {
   "cell_type": "code",
   "execution_count": 26,
   "id": "cb14101a",
   "metadata": {},
   "outputs": [],
   "source": [
    "data_reduce2=data_reduce.copy()"
   ]
  },
  {
   "cell_type": "code",
   "execution_count": 27,
   "id": "bba28a27",
   "metadata": {},
   "outputs": [],
   "source": [
    "data_reduce2['cluster'] = kmeans2.labels_"
   ]
  },
  {
   "cell_type": "code",
   "execution_count": 28,
   "id": "52036789",
   "metadata": {},
   "outputs": [
    {
     "data": {
      "text/html": [
       "<div>\n",
       "<style scoped>\n",
       "    .dataframe tbody tr th:only-of-type {\n",
       "        vertical-align: middle;\n",
       "    }\n",
       "\n",
       "    .dataframe tbody tr th {\n",
       "        vertical-align: top;\n",
       "    }\n",
       "\n",
       "    .dataframe thead th {\n",
       "        text-align: right;\n",
       "    }\n",
       "</style>\n",
       "<table border=\"1\" class=\"dataframe\">\n",
       "  <thead>\n",
       "    <tr style=\"text-align: right;\">\n",
       "      <th></th>\n",
       "      <th>entidades</th>\n",
       "      <th>money</th>\n",
       "      <th>time</th>\n",
       "      <th>information</th>\n",
       "      <th>frequencies</th>\n",
       "      <th>cluster</th>\n",
       "    </tr>\n",
       "  </thead>\n",
       "  <tbody>\n",
       "    <tr>\n",
       "      <th>0</th>\n",
       "      <td>ACCION SOCIAL COMO ENTIDAD DE INCLUSION SOCIAL...</td>\n",
       "      <td>0.000000</td>\n",
       "      <td>0.000000</td>\n",
       "      <td>1.000000</td>\n",
       "      <td>0.000000</td>\n",
       "      <td>3</td>\n",
       "    </tr>\n",
       "    <tr>\n",
       "      <th>1</th>\n",
       "      <td>ACERIAS NACIONALES DEL ECUADOR SOCIEDAD ANONIM...</td>\n",
       "      <td>0.111111</td>\n",
       "      <td>0.555556</td>\n",
       "      <td>0.555556</td>\n",
       "      <td>0.333333</td>\n",
       "      <td>0</td>\n",
       "    </tr>\n",
       "    <tr>\n",
       "      <th>2</th>\n",
       "      <td>AGENCIA DE REGULACIÓN Y CONTROL FITO Y ZOOSANI...</td>\n",
       "      <td>0.000000</td>\n",
       "      <td>0.000000</td>\n",
       "      <td>0.669725</td>\n",
       "      <td>0.000000</td>\n",
       "      <td>0</td>\n",
       "    </tr>\n",
       "    <tr>\n",
       "      <th>3</th>\n",
       "      <td>AGENCIA NACIONAL DE REGULACION, CONTROL Y VIGI...</td>\n",
       "      <td>0.000000</td>\n",
       "      <td>0.000000</td>\n",
       "      <td>0.818182</td>\n",
       "      <td>0.000000</td>\n",
       "      <td>3</td>\n",
       "    </tr>\n",
       "    <tr>\n",
       "      <th>4</th>\n",
       "      <td>AGENCIA NACIONAL DE REGULACIÓN Y CONTROL DEL T...</td>\n",
       "      <td>0.000000</td>\n",
       "      <td>2.000000</td>\n",
       "      <td>1.500000</td>\n",
       "      <td>1.000000</td>\n",
       "      <td>1</td>\n",
       "    </tr>\n",
       "  </tbody>\n",
       "</table>\n",
       "</div>"
      ],
      "text/plain": [
       "                                           entidades     money      time  \\\n",
       "0  ACCION SOCIAL COMO ENTIDAD DE INCLUSION SOCIAL...  0.000000  0.000000   \n",
       "1  ACERIAS NACIONALES DEL ECUADOR SOCIEDAD ANONIM...  0.111111  0.555556   \n",
       "2  AGENCIA DE REGULACIÓN Y CONTROL FITO Y ZOOSANI...  0.000000  0.000000   \n",
       "3  AGENCIA NACIONAL DE REGULACION, CONTROL Y VIGI...  0.000000  0.000000   \n",
       "4  AGENCIA NACIONAL DE REGULACIÓN Y CONTROL DEL T...  0.000000  2.000000   \n",
       "\n",
       "   information  frequencies  cluster  \n",
       "0     1.000000     0.000000        3  \n",
       "1     0.555556     0.333333        0  \n",
       "2     0.669725     0.000000        0  \n",
       "3     0.818182     0.000000        3  \n",
       "4     1.500000     1.000000        1  "
      ]
     },
     "execution_count": 28,
     "metadata": {},
     "output_type": "execute_result"
    }
   ],
   "source": [
    "data_reduce2.head()"
   ]
  },
  {
   "cell_type": "code",
   "execution_count": 29,
   "id": "d3e612c1",
   "metadata": {},
   "outputs": [
    {
     "data": {
      "text/plain": [
       "<seaborn.axisgrid.PairGrid at 0x1e68344ee08>"
      ]
     },
     "execution_count": 29,
     "metadata": {},
     "output_type": "execute_result"
    },
    {
     "data": {
      "image/png": "[encoded data removed]",
      "text/plain": [
       "<Figure size 762.375x720 with 20 Axes>"
      ]
     },
     "metadata": {
      "needs_background": "light"
     },
     "output_type": "display_data"
    }
   ],
   "source": [
    "sns.pairplot(data_reduce2,hue=\"cluster\", palette=\"tab10\")"
   ]
  },
  {
   "cell_type": "code",
   "execution_count": 30,
   "id": "5da23460",
   "metadata": {},
   "outputs": [
    {
     "data": {
      "text/plain": [
       "<AxesSubplot:xlabel='cluster', ylabel='money'>"
      ]
     },
     "execution_count": 30,
     "metadata": {},
     "output_type": "execute_result"
    },
    {
     "data": {
      "image/png": "[encoded data removed]",
      "text/plain": [
       "<Figure size 432x288 with 1 Axes>"
      ]
     },
     "metadata": {
      "needs_background": "light"
     },
     "output_type": "display_data"
    }
   ],
   "source": [
    "sns.boxplot(x='cluster', y='money', data=data_reduce2)"
   ]
  },
  {
   "cell_type": "code",
   "execution_count": 31,
   "id": "94b1885a",
   "metadata": {},
   "outputs": [
    {
     "data": {
      "text/plain": [
       "<AxesSubplot:xlabel='cluster', ylabel='time'>"
      ]
     },
     "execution_count": 31,
     "metadata": {},
     "output_type": "execute_result"
    },
    {
     "data": {
      "image/png": "[encoded data removed]",
      "text/plain": [
       "<Figure size 432x288 with 1 Axes>"
      ]
     },
     "metadata": {
      "needs_background": "light"
     },
     "output_type": "display_data"
    }
   ],
   "source": [
    "sns.boxplot(x='cluster', y='time', data=data_reduce2)"
   ]
  },
  {
   "cell_type": "code",
   "execution_count": 32,
   "id": "2e8abf32",
   "metadata": {},
   "outputs": [
    {
     "data": {
      "text/plain": [
       "<AxesSubplot:xlabel='cluster', ylabel='information'>"
      ]
     },
     "execution_count": 32,
     "metadata": {},
     "output_type": "execute_result"
    },
    {
     "data": {
      "image/png": "[encoded data removed]",
      "text/plain": [
       "<Figure size 432x288 with 1 Axes>"
      ]
     },
     "metadata": {
      "needs_background": "light"
     },
     "output_type": "display_data"
    }
   ],
   "source": [
    "sns.boxplot(x='cluster', y='information', data=data_reduce2)"
   ]
  },
  {
   "cell_type": "code",
   "execution_count": 33,
   "id": "9747bc90",
   "metadata": {
    "scrolled": false
   },
   "outputs": [
    {
     "data": {
      "text/plain": [
       "<AxesSubplot:xlabel='cluster', ylabel='frequencies'>"
      ]
     },
     "execution_count": 33,
     "metadata": {},
     "output_type": "execute_result"
    },
    {
     "data": {
      "image/png": "[encoded data removed]",
      "text/plain": [
       "<Figure size 432x288 with 1 Axes>"
      ]
     },
     "metadata": {
      "needs_background": "light"
     },
     "output_type": "display_data"
    }
   ],
   "source": [
    "sns.boxplot(x='cluster', y='frequencies', data=data_reduce2)"
   ]
  },
  {
   "cell_type": "code",
   "execution_count": 34,
   "id": "d8e27990",
   "metadata": {},
   "outputs": [
    {
     "data": {
      "text/plain": [
       "<AxesSubplot:xlabel='cluster', ylabel='frequencies'>"
      ]
     },
     "execution_count": 34,
     "metadata": {},
     "output_type": "execute_result"
    },
    {
     "data": {
      "image/png": "[encoded data removed]",
      "text/plain": [
       "<Figure size 1800x720 with 4 Axes>"
      ]
     },
     "metadata": {},
     "output_type": "display_data"
    }
   ],
   "source": [
    "sns.set_theme(style = \"darkgrid\")\n",
    "fig, axs = plt.subplots(2,2,figsize =(25,10))\n",
    "sns.boxplot(x=\"cluster\",y=\"money\", data = data_reduce2,ax=axs[0,0])\n",
    "sns.boxplot(x=\"cluster\",y=\"time\", data = data_reduce2,ax=axs[0,1])\n",
    "sns.boxplot(x=\"cluster\",y=\"information\", data = data_reduce2,ax=axs[1,0])\n",
    "sns.boxplot(x=\"cluster\",y=\"frequencies\", data = data_reduce2,ax=axs[1,1])"
   ]
  },
  {
   "cell_type": "markdown",
   "id": "a749d19f",
   "metadata": {},
   "source": [
    "### Clustering \n",
    "- Cluster 0\n",
    "    - Menor cantidad de red flags para money\n",
    "    - Menor cantidad de red flags para time\n",
    "    - Menor cantidad de red flags para information\n",
    "    - Menor cantidad de red flags para frequencies\n",
    "    - Conclusión: Cluster con menor cantidad de red flags para todos los features\n",
    "- Cluster 1\n",
    "    - Cantidad de red flags ligeramente baja\n",
    "    - Mayor cantidad en red flags de tipo tiempo\n",
    "    - En comparación de cluster 1 y 2, el cluster 1 es ligeramente más alto, debido a que el cluster 2 tiene una mayor distribución por debajo de su mediana en el feature de información.\n",
    "    - Mayor cantidad de red flags en la frecuencia de participaciones\n",
    "    - Conclusión: Cluster que contiene mayor cantidades de red flags entre todos sus features, mayor probabilidad corrupción\n",
    "- Cluster 2\n",
    "    - Mayor cantidad de red flags de money\n",
    "    - Mayor parte de sus datos están por encima de los cluster 0 y 3, pero por debajo del cluster 1, quedando en la segunda posición de mayor probabilidad de corrupción\n",
    "    - El 50% de sus datos se encuentran más bajos que el cluster 1, quedando en segundo posición considerando mayor corrupción\n",
    "    - Mayor parte de sus datos están por encima de los cluster 0 y 3, pero por debajo del cluster 1, quedando en la segunda posición de mayor probabilidad de corrupción\n",
    "    - Conclusión: El segundo con más probabilidad de corrupción\n",
    "- Cluster 3\n",
    "    - Por la cantidad de datos que se observan, queda como el segundo más alto en red flags de tipo money\n",
    "    - Tercero con mayor probabilidad de corrupción con red flags de tipo time\n",
    "    - Tercero con mayor probabilidad de corrupción con red flags de tipo information, debido a que la mayor parte de sus datos se concentran en la mediana, y solo los outliers quedan fuera.\n",
    "    - En base a outliers, los datos son mayores en este cluster, en comparación al cluster 0, por lo que queda en el tercero con mayor probabilidad de corrupción\n",
    "    - Conclusión: El tercero con más probabilidad de corrupción"
   ]
  },
  {
   "cell_type": "markdown",
   "id": "5a4e38df",
   "metadata": {},
   "source": [
    "|Cluster|Observación|\n",
    "|---|---|\n",
    "|0|Más baja cantidad de red flags cometidos|\n",
    "|1|Más alta cantidad de red flags cometidos|\n",
    "|2|Media-Alta cantidades de red flags cometidos|\n",
    "|3|Media-Baja cantidades de red flags cometidos|"
   ]
  },
  {
   "cell_type": "code",
   "execution_count": 35,
   "id": "58fe1e14",
   "metadata": {
    "scrolled": true
   },
   "outputs": [
    {
     "data": {
      "text/html": [
       "<div>\n",
       "<style scoped>\n",
       "    .dataframe tbody tr th:only-of-type {\n",
       "        vertical-align: middle;\n",
       "    }\n",
       "\n",
       "    .dataframe tbody tr th {\n",
       "        vertical-align: top;\n",
       "    }\n",
       "\n",
       "    .dataframe thead th {\n",
       "        text-align: right;\n",
       "    }\n",
       "</style>\n",
       "<table border=\"1\" class=\"dataframe\">\n",
       "  <thead>\n",
       "    <tr style=\"text-align: right;\">\n",
       "      <th></th>\n",
       "      <th>entidades</th>\n",
       "      <th>money</th>\n",
       "      <th>time</th>\n",
       "      <th>information</th>\n",
       "      <th>frequencies</th>\n",
       "      <th>cluster</th>\n",
       "    </tr>\n",
       "  </thead>\n",
       "  <tbody>\n",
       "    <tr>\n",
       "      <th>0</th>\n",
       "      <td>ACCION SOCIAL COMO ENTIDAD DE INCLUSION SOCIAL...</td>\n",
       "      <td>0.000000</td>\n",
       "      <td>0.000000</td>\n",
       "      <td>1.000000</td>\n",
       "      <td>0.000000</td>\n",
       "      <td>3</td>\n",
       "    </tr>\n",
       "    <tr>\n",
       "      <th>1</th>\n",
       "      <td>ACERIAS NACIONALES DEL ECUADOR SOCIEDAD ANONIM...</td>\n",
       "      <td>0.111111</td>\n",
       "      <td>0.555556</td>\n",
       "      <td>0.555556</td>\n",
       "      <td>0.333333</td>\n",
       "      <td>0</td>\n",
       "    </tr>\n",
       "    <tr>\n",
       "      <th>2</th>\n",
       "      <td>AGENCIA DE REGULACIÓN Y CONTROL FITO Y ZOOSANI...</td>\n",
       "      <td>0.000000</td>\n",
       "      <td>0.000000</td>\n",
       "      <td>0.669725</td>\n",
       "      <td>0.000000</td>\n",
       "      <td>0</td>\n",
       "    </tr>\n",
       "    <tr>\n",
       "      <th>3</th>\n",
       "      <td>AGENCIA NACIONAL DE REGULACION, CONTROL Y VIGI...</td>\n",
       "      <td>0.000000</td>\n",
       "      <td>0.000000</td>\n",
       "      <td>0.818182</td>\n",
       "      <td>0.000000</td>\n",
       "      <td>3</td>\n",
       "    </tr>\n",
       "    <tr>\n",
       "      <th>4</th>\n",
       "      <td>AGENCIA NACIONAL DE REGULACIÓN Y CONTROL DEL T...</td>\n",
       "      <td>0.000000</td>\n",
       "      <td>2.000000</td>\n",
       "      <td>1.500000</td>\n",
       "      <td>1.000000</td>\n",
       "      <td>1</td>\n",
       "    </tr>\n",
       "    <tr>\n",
       "      <th>...</th>\n",
       "      <td>...</td>\n",
       "      <td>...</td>\n",
       "      <td>...</td>\n",
       "      <td>...</td>\n",
       "      <td>...</td>\n",
       "      <td>...</td>\n",
       "    </tr>\n",
       "    <tr>\n",
       "      <th>1366</th>\n",
       "      <td>junta parroquial de cuyuja</td>\n",
       "      <td>0.000000</td>\n",
       "      <td>0.000000</td>\n",
       "      <td>1.000000</td>\n",
       "      <td>0.000000</td>\n",
       "      <td>3</td>\n",
       "    </tr>\n",
       "    <tr>\n",
       "      <th>1367</th>\n",
       "      <td>junta parroquial la tola</td>\n",
       "      <td>0.000000</td>\n",
       "      <td>0.000000</td>\n",
       "      <td>1.000000</td>\n",
       "      <td>0.000000</td>\n",
       "      <td>3</td>\n",
       "    </tr>\n",
       "    <tr>\n",
       "      <th>1368</th>\n",
       "      <td>juntaparroquialbuenavista</td>\n",
       "      <td>0.000000</td>\n",
       "      <td>0.000000</td>\n",
       "      <td>1.333333</td>\n",
       "      <td>0.000000</td>\n",
       "      <td>3</td>\n",
       "    </tr>\n",
       "    <tr>\n",
       "      <th>1369</th>\n",
       "      <td>juntaparroquialsalango</td>\n",
       "      <td>0.000000</td>\n",
       "      <td>0.000000</td>\n",
       "      <td>1.000000</td>\n",
       "      <td>0.000000</td>\n",
       "      <td>3</td>\n",
       "    </tr>\n",
       "    <tr>\n",
       "      <th>1370</th>\n",
       "      <td>museo y parque arqueologico pumapungo</td>\n",
       "      <td>0.000000</td>\n",
       "      <td>0.000000</td>\n",
       "      <td>1.000000</td>\n",
       "      <td>0.000000</td>\n",
       "      <td>3</td>\n",
       "    </tr>\n",
       "  </tbody>\n",
       "</table>\n",
       "<p>1371 rows × 6 columns</p>\n",
       "</div>"
      ],
      "text/plain": [
       "                                              entidades     money      time  \\\n",
       "0     ACCION SOCIAL COMO ENTIDAD DE INCLUSION SOCIAL...  0.000000  0.000000   \n",
       "1     ACERIAS NACIONALES DEL ECUADOR SOCIEDAD ANONIM...  0.111111  0.555556   \n",
       "2     AGENCIA DE REGULACIÓN Y CONTROL FITO Y ZOOSANI...  0.000000  0.000000   \n",
       "3     AGENCIA NACIONAL DE REGULACION, CONTROL Y VIGI...  0.000000  0.000000   \n",
       "4     AGENCIA NACIONAL DE REGULACIÓN Y CONTROL DEL T...  0.000000  2.000000   \n",
       "...                                                 ...       ...       ...   \n",
       "1366                         junta parroquial de cuyuja  0.000000  0.000000   \n",
       "1367                           junta parroquial la tola  0.000000  0.000000   \n",
       "1368                          juntaparroquialbuenavista  0.000000  0.000000   \n",
       "1369                             juntaparroquialsalango  0.000000  0.000000   \n",
       "1370              museo y parque arqueologico pumapungo  0.000000  0.000000   \n",
       "\n",
       "      information  frequencies  cluster  \n",
       "0        1.000000     0.000000        3  \n",
       "1        0.555556     0.333333        0  \n",
       "2        0.669725     0.000000        0  \n",
       "3        0.818182     0.000000        3  \n",
       "4        1.500000     1.000000        1  \n",
       "...           ...          ...      ...  \n",
       "1366     1.000000     0.000000        3  \n",
       "1367     1.000000     0.000000        3  \n",
       "1368     1.333333     0.000000        3  \n",
       "1369     1.000000     0.000000        3  \n",
       "1370     1.000000     0.000000        3  \n",
       "\n",
       "[1371 rows x 6 columns]"
      ]
     },
     "execution_count": 35,
     "metadata": {},
     "output_type": "execute_result"
    }
   ],
   "source": [
    "data_reduce2"
   ]
  },
  {
   "cell_type": "code",
   "execution_count": 36,
   "id": "051ac4d0",
   "metadata": {},
   "outputs": [],
   "source": [
    "buyers_info=parties.loc[parties['roles']==\"buyer\"]\n",
    "buyers_info=buyers_info[[\"ocid\",\"name\",\"address_region\"]]"
   ]
  },
  {
   "cell_type": "code",
   "execution_count": 37,
   "id": "a088b29f",
   "metadata": {},
   "outputs": [],
   "source": [
    "buyers_info.columns=[\"ocid\",\"entidades\",\"address_region\"]"
   ]
  },
  {
   "cell_type": "code",
   "execution_count": 38,
   "id": "c7648f3d",
   "metadata": {},
   "outputs": [],
   "source": [
    "buyers_info=buyers_info.loc[buyers_info['entidades'].notnull()]"
   ]
  },
  {
   "cell_type": "code",
   "execution_count": 39,
   "id": "ece6764f",
   "metadata": {},
   "outputs": [],
   "source": [
    "cluster_0=data_reduce2.loc[data_reduce2['cluster']==0]"
   ]
  },
  {
   "cell_type": "code",
   "execution_count": 40,
   "id": "7c7e49ac",
   "metadata": {},
   "outputs": [],
   "source": [
    "cluster_0=cluster_0.merge(buyers_info[[\"entidades\",\"address_region\"]], on=\"entidades\", how=\"left\")"
   ]
  },
  {
   "cell_type": "code",
   "execution_count": 41,
   "id": "8f846d55",
   "metadata": {},
   "outputs": [],
   "source": [
    "cluster_1=data_reduce2.loc[data_reduce2['cluster']==1]\n",
    "cluster_1=cluster_1.merge(buyers_info[[\"entidades\",\"address_region\"]], on=\"entidades\", how=\"left\")"
   ]
  },
  {
   "cell_type": "code",
   "execution_count": 42,
   "id": "4e7f8364",
   "metadata": {},
   "outputs": [
    {
     "data": {
      "text/html": [
       "<div>\n",
       "<style scoped>\n",
       "    .dataframe tbody tr th:only-of-type {\n",
       "        vertical-align: middle;\n",
       "    }\n",
       "\n",
       "    .dataframe tbody tr th {\n",
       "        vertical-align: top;\n",
       "    }\n",
       "\n",
       "    .dataframe thead th {\n",
       "        text-align: right;\n",
       "    }\n",
       "</style>\n",
       "<table border=\"1\" class=\"dataframe\">\n",
       "  <thead>\n",
       "    <tr style=\"text-align: right;\">\n",
       "      <th></th>\n",
       "      <th>entidades</th>\n",
       "      <th>money</th>\n",
       "      <th>time</th>\n",
       "      <th>information</th>\n",
       "      <th>frequencies</th>\n",
       "      <th>cluster</th>\n",
       "      <th>address_region</th>\n",
       "    </tr>\n",
       "  </thead>\n",
       "  <tbody>\n",
       "    <tr>\n",
       "      <th>0</th>\n",
       "      <td>AGENCIA NACIONAL DE REGULACIÓN Y CONTROL DEL T...</td>\n",
       "      <td>0.000000</td>\n",
       "      <td>2.000000</td>\n",
       "      <td>1.500000</td>\n",
       "      <td>1.0</td>\n",
       "      <td>1</td>\n",
       "      <td>PICHINCHA</td>\n",
       "    </tr>\n",
       "    <tr>\n",
       "      <th>1</th>\n",
       "      <td>AGENCIA NACIONAL DE REGULACIÓN Y CONTROL DEL T...</td>\n",
       "      <td>0.000000</td>\n",
       "      <td>2.000000</td>\n",
       "      <td>1.500000</td>\n",
       "      <td>1.0</td>\n",
       "      <td>1</td>\n",
       "      <td>PICHINCHA</td>\n",
       "    </tr>\n",
       "    <tr>\n",
       "      <th>2</th>\n",
       "      <td>ASAMBLEA NACIONAL</td>\n",
       "      <td>0.000000</td>\n",
       "      <td>1.000000</td>\n",
       "      <td>1.500000</td>\n",
       "      <td>1.0</td>\n",
       "      <td>1</td>\n",
       "      <td>PICHINCHA</td>\n",
       "    </tr>\n",
       "    <tr>\n",
       "      <th>3</th>\n",
       "      <td>ASAMBLEA NACIONAL</td>\n",
       "      <td>0.000000</td>\n",
       "      <td>1.000000</td>\n",
       "      <td>1.500000</td>\n",
       "      <td>1.0</td>\n",
       "      <td>1</td>\n",
       "      <td>PICHINCHA</td>\n",
       "    </tr>\n",
       "    <tr>\n",
       "      <th>4</th>\n",
       "      <td>COMANDO PROVINCIAL DE POLICIA PASTAZA No. 16</td>\n",
       "      <td>0.000000</td>\n",
       "      <td>2.000000</td>\n",
       "      <td>1.000000</td>\n",
       "      <td>1.0</td>\n",
       "      <td>1</td>\n",
       "      <td>PASTAZA</td>\n",
       "    </tr>\n",
       "    <tr>\n",
       "      <th>...</th>\n",
       "      <td>...</td>\n",
       "      <td>...</td>\n",
       "      <td>...</td>\n",
       "      <td>...</td>\n",
       "      <td>...</td>\n",
       "      <td>...</td>\n",
       "      <td>...</td>\n",
       "    </tr>\n",
       "    <tr>\n",
       "      <th>291</th>\n",
       "      <td>comando provincial de la policia del guayas nr...</td>\n",
       "      <td>0.166667</td>\n",
       "      <td>0.166667</td>\n",
       "      <td>0.833333</td>\n",
       "      <td>1.0</td>\n",
       "      <td>1</td>\n",
       "      <td>GUAYAS</td>\n",
       "    </tr>\n",
       "    <tr>\n",
       "      <th>292</th>\n",
       "      <td>comando provincial de la policia del guayas nr...</td>\n",
       "      <td>0.166667</td>\n",
       "      <td>0.166667</td>\n",
       "      <td>0.833333</td>\n",
       "      <td>1.0</td>\n",
       "      <td>1</td>\n",
       "      <td>GUAYAS</td>\n",
       "    </tr>\n",
       "    <tr>\n",
       "      <th>293</th>\n",
       "      <td>comando provincial de la policia del guayas nr...</td>\n",
       "      <td>0.166667</td>\n",
       "      <td>0.166667</td>\n",
       "      <td>0.833333</td>\n",
       "      <td>1.0</td>\n",
       "      <td>1</td>\n",
       "      <td>GUAYAS</td>\n",
       "    </tr>\n",
       "    <tr>\n",
       "      <th>294</th>\n",
       "      <td>comandodepoliciadeorellana</td>\n",
       "      <td>0.000000</td>\n",
       "      <td>2.000000</td>\n",
       "      <td>1.000000</td>\n",
       "      <td>1.0</td>\n",
       "      <td>1</td>\n",
       "      <td>ORELLANA</td>\n",
       "    </tr>\n",
       "    <tr>\n",
       "      <th>295</th>\n",
       "      <td>direccion provincial del ministerio de obras p...</td>\n",
       "      <td>0.000000</td>\n",
       "      <td>2.000000</td>\n",
       "      <td>2.000000</td>\n",
       "      <td>2.0</td>\n",
       "      <td>1</td>\n",
       "      <td>ORELLANA</td>\n",
       "    </tr>\n",
       "  </tbody>\n",
       "</table>\n",
       "<p>296 rows × 7 columns</p>\n",
       "</div>"
      ],
      "text/plain": [
       "                                             entidades     money      time  \\\n",
       "0    AGENCIA NACIONAL DE REGULACIÓN Y CONTROL DEL T...  0.000000  2.000000   \n",
       "1    AGENCIA NACIONAL DE REGULACIÓN Y CONTROL DEL T...  0.000000  2.000000   \n",
       "2                                    ASAMBLEA NACIONAL  0.000000  1.000000   \n",
       "3                                    ASAMBLEA NACIONAL  0.000000  1.000000   \n",
       "4         COMANDO PROVINCIAL DE POLICIA PASTAZA No. 16  0.000000  2.000000   \n",
       "..                                                 ...       ...       ...   \n",
       "291  comando provincial de la policia del guayas nr...  0.166667  0.166667   \n",
       "292  comando provincial de la policia del guayas nr...  0.166667  0.166667   \n",
       "293  comando provincial de la policia del guayas nr...  0.166667  0.166667   \n",
       "294                         comandodepoliciadeorellana  0.000000  2.000000   \n",
       "295  direccion provincial del ministerio de obras p...  0.000000  2.000000   \n",
       "\n",
       "     information  frequencies  cluster address_region  \n",
       "0       1.500000          1.0        1      PICHINCHA  \n",
       "1       1.500000          1.0        1      PICHINCHA  \n",
       "2       1.500000          1.0        1      PICHINCHA  \n",
       "3       1.500000          1.0        1      PICHINCHA  \n",
       "4       1.000000          1.0        1        PASTAZA  \n",
       "..           ...          ...      ...            ...  \n",
       "291     0.833333          1.0        1         GUAYAS  \n",
       "292     0.833333          1.0        1         GUAYAS  \n",
       "293     0.833333          1.0        1         GUAYAS  \n",
       "294     1.000000          1.0        1       ORELLANA  \n",
       "295     2.000000          2.0        1       ORELLANA  \n",
       "\n",
       "[296 rows x 7 columns]"
      ]
     },
     "execution_count": 42,
     "metadata": {},
     "output_type": "execute_result"
    }
   ],
   "source": [
    "cluster_1"
   ]
  },
  {
   "cell_type": "code",
   "execution_count": 43,
   "id": "8164ef18",
   "metadata": {},
   "outputs": [
    {
     "data": {
      "text/plain": [
       "'AGENCIA NACIONAL DE REGULACIÓN Y CONTROL DEL TRANSPORTE TERRESTRE, TRÁNSITO Y SEGURIDAD VIAL'"
      ]
     },
     "execution_count": 43,
     "metadata": {},
     "output_type": "execute_result"
    }
   ],
   "source": [
    "cluster_1['entidades'][1]"
   ]
  },
  {
   "cell_type": "code",
   "execution_count": 44,
   "id": "8698e4e7",
   "metadata": {},
   "outputs": [
    {
     "data": {
      "text/html": [
       "<div>\n",
       "<style scoped>\n",
       "    .dataframe tbody tr th:only-of-type {\n",
       "        vertical-align: middle;\n",
       "    }\n",
       "\n",
       "    .dataframe tbody tr th {\n",
       "        vertical-align: top;\n",
       "    }\n",
       "\n",
       "    .dataframe thead th {\n",
       "        text-align: right;\n",
       "    }\n",
       "</style>\n",
       "<table border=\"1\" class=\"dataframe\">\n",
       "  <thead>\n",
       "    <tr style=\"text-align: right;\">\n",
       "      <th></th>\n",
       "      <th>ocid</th>\n",
       "      <th>entidades</th>\n",
       "      <th>address_region</th>\n",
       "    </tr>\n",
       "  </thead>\n",
       "  <tbody>\n",
       "    <tr>\n",
       "      <th>5354</th>\n",
       "      <td>ocds-5wno2w-CE-20190001560457-874068</td>\n",
       "      <td>AGENCIA DE REGULACIÓN Y CONTROL FITO Y ZOOSANI...</td>\n",
       "      <td>NaN</td>\n",
       "    </tr>\n",
       "    <tr>\n",
       "      <th>5356</th>\n",
       "      <td>ocds-5wno2w-CE-20190001560458-874068</td>\n",
       "      <td>AGENCIA DE REGULACIÓN Y CONTROL FITO Y ZOOSANI...</td>\n",
       "      <td>NaN</td>\n",
       "    </tr>\n",
       "    <tr>\n",
       "      <th>5359</th>\n",
       "      <td>ocds-5wno2w-CE-20190001560459-874068</td>\n",
       "      <td>AGENCIA DE REGULACIÓN Y CONTROL FITO Y ZOOSANI...</td>\n",
       "      <td>NaN</td>\n",
       "    </tr>\n",
       "    <tr>\n",
       "      <th>5360</th>\n",
       "      <td>ocds-5wno2w-CE-20190001560460-874068</td>\n",
       "      <td>AGENCIA DE REGULACIÓN Y CONTROL FITO Y ZOOSANI...</td>\n",
       "      <td>NaN</td>\n",
       "    </tr>\n",
       "    <tr>\n",
       "      <th>5363</th>\n",
       "      <td>ocds-5wno2w-CE-20190001560461-874068</td>\n",
       "      <td>AGENCIA DE REGULACIÓN Y CONTROL FITO Y ZOOSANI...</td>\n",
       "      <td>NaN</td>\n",
       "    </tr>\n",
       "    <tr>\n",
       "      <th>...</th>\n",
       "      <td>...</td>\n",
       "      <td>...</td>\n",
       "      <td>...</td>\n",
       "    </tr>\n",
       "    <tr>\n",
       "      <th>19625</th>\n",
       "      <td>ocds-5wno2w-CE-20200001887351-869714</td>\n",
       "      <td>AGENCIA DE REGULACIÓN Y CONTROL FITO Y ZOOSANI...</td>\n",
       "      <td>PICHINCHA</td>\n",
       "    </tr>\n",
       "    <tr>\n",
       "      <th>19628</th>\n",
       "      <td>ocds-5wno2w-CE-20200001887353-869714</td>\n",
       "      <td>AGENCIA DE REGULACIÓN Y CONTROL FITO Y ZOOSANI...</td>\n",
       "      <td>PICHINCHA</td>\n",
       "    </tr>\n",
       "    <tr>\n",
       "      <th>19629</th>\n",
       "      <td>ocds-5wno2w-CE-20200001887354-869714</td>\n",
       "      <td>AGENCIA DE REGULACIÓN Y CONTROL FITO Y ZOOSANI...</td>\n",
       "      <td>PICHINCHA</td>\n",
       "    </tr>\n",
       "    <tr>\n",
       "      <th>19631</th>\n",
       "      <td>ocds-5wno2w-CE-20200001887355-869714</td>\n",
       "      <td>AGENCIA DE REGULACIÓN Y CONTROL FITO Y ZOOSANI...</td>\n",
       "      <td>PICHINCHA</td>\n",
       "    </tr>\n",
       "    <tr>\n",
       "      <th>19633</th>\n",
       "      <td>ocds-5wno2w-CE-20200001887356-869714</td>\n",
       "      <td>AGENCIA DE REGULACIÓN Y CONTROL FITO Y ZOOSANI...</td>\n",
       "      <td>PICHINCHA</td>\n",
       "    </tr>\n",
       "  </tbody>\n",
       "</table>\n",
       "<p>109 rows × 3 columns</p>\n",
       "</div>"
      ],
      "text/plain": [
       "                                       ocid  \\\n",
       "5354   ocds-5wno2w-CE-20190001560457-874068   \n",
       "5356   ocds-5wno2w-CE-20190001560458-874068   \n",
       "5359   ocds-5wno2w-CE-20190001560459-874068   \n",
       "5360   ocds-5wno2w-CE-20190001560460-874068   \n",
       "5363   ocds-5wno2w-CE-20190001560461-874068   \n",
       "...                                     ...   \n",
       "19625  ocds-5wno2w-CE-20200001887351-869714   \n",
       "19628  ocds-5wno2w-CE-20200001887353-869714   \n",
       "19629  ocds-5wno2w-CE-20200001887354-869714   \n",
       "19631  ocds-5wno2w-CE-20200001887355-869714   \n",
       "19633  ocds-5wno2w-CE-20200001887356-869714   \n",
       "\n",
       "                                               entidades address_region  \n",
       "5354   AGENCIA DE REGULACIÓN Y CONTROL FITO Y ZOOSANI...            NaN  \n",
       "5356   AGENCIA DE REGULACIÓN Y CONTROL FITO Y ZOOSANI...            NaN  \n",
       "5359   AGENCIA DE REGULACIÓN Y CONTROL FITO Y ZOOSANI...            NaN  \n",
       "5360   AGENCIA DE REGULACIÓN Y CONTROL FITO Y ZOOSANI...            NaN  \n",
       "5363   AGENCIA DE REGULACIÓN Y CONTROL FITO Y ZOOSANI...            NaN  \n",
       "...                                                  ...            ...  \n",
       "19625  AGENCIA DE REGULACIÓN Y CONTROL FITO Y ZOOSANI...      PICHINCHA  \n",
       "19628  AGENCIA DE REGULACIÓN Y CONTROL FITO Y ZOOSANI...      PICHINCHA  \n",
       "19629  AGENCIA DE REGULACIÓN Y CONTROL FITO Y ZOOSANI...      PICHINCHA  \n",
       "19631  AGENCIA DE REGULACIÓN Y CONTROL FITO Y ZOOSANI...      PICHINCHA  \n",
       "19633  AGENCIA DE REGULACIÓN Y CONTROL FITO Y ZOOSANI...      PICHINCHA  \n",
       "\n",
       "[109 rows x 3 columns]"
      ]
     },
     "execution_count": 44,
     "metadata": {},
     "output_type": "execute_result"
    }
   ],
   "source": [
    "buyers_info.loc[buyers_info['entidades']=='AGENCIA DE REGULACIÓN Y CONTROL FITO Y ZOOSANITARIO']"
   ]
  },
  {
   "cell_type": "markdown",
   "id": "8e54dbc6",
   "metadata": {},
   "source": [
    "group_1=buyers_info.groupby([\"name\",\"address_region\"]).agg({'ocid':'count'}).reset_index()"
   ]
  },
  {
   "cell_type": "markdown",
   "id": "69974c89",
   "metadata": {},
   "source": [
    "grupo_2=group_1.groupby(\"address_region\").agg({'ocid':np.sum}).reset_index()"
   ]
  },
  {
   "cell_type": "markdown",
   "id": "200c25f5",
   "metadata": {},
   "source": [
    "grupo_2.sort_values(by='ocid', ascending = False, inplace = True)"
   ]
  },
  {
   "cell_type": "code",
   "execution_count": null,
   "id": "7b4fb629",
   "metadata": {},
   "outputs": [],
   "source": []
  }
 ],
 "metadata": {
  "kernelspec": {
   "display_name": "Python 3 (ipykernel)",
   "language": "python",
   "name": "python3"
  },
  "language_info": {
   "codemirror_mode": {
    "name": "ipython",
    "version": 3
   },
   "file_extension": ".py",
   "mimetype": "text/x-python",
   "name": "python",
   "nbconvert_exporter": "python",
   "pygments_lexer": "ipython3",
   "version": "3.10.5"
  }
 },
 "nbformat": 4,
 "nbformat_minor": 5
}
