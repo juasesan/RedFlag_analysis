{
 "cells": [
  {
   "cell_type": "markdown",
   "id": "d757faaa",
   "metadata": {},
   "source": [
    "# Librerías"
   ]
  },
  {
   "cell_type": "code",
   "execution_count": 1,
   "id": "e94a10ea",
   "metadata": {},
   "outputs": [],
   "source": [
    "import matplotlib.pyplot as plt\n",
    "import pandas as pd\n",
    "import numpy as np\n",
    "import seaborn as sns\n",
    "import json\n",
    "import ast"
   ]
  },
  {
   "cell_type": "markdown",
   "id": "7aee9ad1",
   "metadata": {},
   "source": [
    "# Lectura de archivos"
   ]
  },
  {
   "cell_type": "code",
   "execution_count": 2,
   "id": "5458810e",
   "metadata": {},
   "outputs": [],
   "source": [
    "awards = pd.read_csv('CSV/awards.csv')\n",
    "awardsItems = pd.read_csv('CSV/awardsItems.csv')\n",
    "tender = pd.read_csv('CSV/tender.csv')\n",
    "tenderItems = pd.read_csv('CSV/tender_items.csv')\n",
    "tenderEnquiries = pd.read_csv('CSV/tender_enquiries.csv')\n",
    "tenderTenderers = pd.read_csv('CSV/tender_tenderers.csv')\n",
    "parties = pd.read_csv('CSV/parties.csv')\n",
    "releases = pd.read_csv('CSV/releases.csv')\n",
    "# sector_publico = pd.read_csv('GetData/catalogo.csv')"
   ]
  },
  {
   "cell_type": "markdown",
   "id": "d3670750",
   "metadata": {},
   "source": [
    "### OCIDs no válidos"
   ]
  },
  {
   "cell_type": "code",
   "execution_count": 3,
   "id": "bfcce300",
   "metadata": {},
   "outputs": [],
   "source": [
    "ocidNoValidos = ['ocds-5wno2w-003-MC-GPLR-2019-2805', 'ocds-5wno2w-ARE-CBSE-001-2019-222424', 'ocds-5wno2w-CB-FAME-001-2019-510646', 'ocds-5wno2w-CBS-EPMAAM-001-2019-699688', 'ocds-5wno2w-003-MC-GPLR-2019-2805', 'ocds-5wno2w-CDC-GADPRP-2019-001-107859', 'ocds-5wno2w-CDC-GADPSO-2019-004-145156']"
   ]
  },
  {
   "cell_type": "code",
   "execution_count": 4,
   "id": "121f7d20",
   "metadata": {},
   "outputs": [],
   "source": [
    "tender = tender[~tender['ocid'].isin(ocidNoValidos)].reset_index(drop=True)\n",
    "tenderItems = tenderItems[~tenderItems['ocid'].isin(ocidNoValidos)].reset_index(drop=True)\n",
    "tenderTenderers = tenderTenderers[~tenderTenderers['ocid'].isin(ocidNoValidos)].reset_index(drop=True)\n",
    "releases = releases[~releases['ocid'].isin(ocidNoValidos)].reset_index(drop=True)\n",
    "parties = parties.iloc[:,1:]"
   ]
  },
  {
   "cell_type": "code",
   "execution_count": 5,
   "id": "e5e2d625",
   "metadata": {},
   "outputs": [],
   "source": [
    "parties = parties[parties['name'] != 'CONStrueXPRESS S.A.'].reset_index(drop=True)"
   ]
  },
  {
   "cell_type": "markdown",
   "id": "b94e51cd",
   "metadata": {},
   "source": [
    "# NF025"
   ]
  },
  {
   "cell_type": "code",
   "execution_count": 6,
   "id": "105639ea",
   "metadata": {},
   "outputs": [],
   "source": [
    "def NF025():\n",
    "    # Solo participación de tenderers\n",
    "    tenderers_id = pd.DataFrame(parties[parties['roles'] != 'buyer'].groupby('id')['roles'].value_counts())\n",
    "    tenderers_id.rename(columns={'roles':'participations'}, inplace=True)\n",
    "    tenderers_id.reset_index(inplace=True)\n",
    "    tenderers_id = tenderers_id[tenderers_id['roles'] == 'tenderer']\n",
    "    \n",
    "    # Ganadores de cada ocid\n",
    "    winners = awards['supplier_id'].value_counts().reset_index()\n",
    "    winners.rename(columns = {'index':'id', 'supplier_id':'wins'}, inplace=True)\n",
    "    \n",
    "    # Ganadores y participaciones\n",
    "    participations = winners.merge(tenderers_id[['id','participations']], on='id', how='outer')\n",
    "    participations['wins'].fillna(0, inplace=True)\n",
    "    participations['participations'].fillna(0, inplace=True)\n",
    "    participations['participations'] = participations['wins'] + participations['participations']\n",
    "\n",
    "    # Límite de ids dependiendo de la tasa de éxitos\n",
    "    participations['success_rate'] = participations['wins']/participations['participations']\n",
    "    red_flag = participations[(participations['success_rate'] < 0.75) & (participations['participations'] > 3)]\n",
    "    red_flag = red_flag.sort_values(by='participations', ascending=False)\n",
    "    red_flag.reset_index(drop=True, inplace=True)\n",
    "    \n",
    "    # Se retorna una lista de DataFrames - Índice 0 participaciones - Índice 1 Ids que generan red-flag\n",
    "    return [participations, red_flag]"
   ]
  },
  {
   "cell_type": "code",
   "execution_count": 7,
   "id": "9cc6ccdc",
   "metadata": {},
   "outputs": [
    {
     "data": {
      "text/html": [
       "<div>\n",
       "<style scoped>\n",
       "    .dataframe tbody tr th:only-of-type {\n",
       "        vertical-align: middle;\n",
       "    }\n",
       "\n",
       "    .dataframe tbody tr th {\n",
       "        vertical-align: top;\n",
       "    }\n",
       "\n",
       "    .dataframe thead th {\n",
       "        text-align: right;\n",
       "    }\n",
       "</style>\n",
       "<table border=\"1\" class=\"dataframe\">\n",
       "  <thead>\n",
       "    <tr style=\"text-align: right;\">\n",
       "      <th></th>\n",
       "      <th>id</th>\n",
       "      <th>wins</th>\n",
       "      <th>participations</th>\n",
       "      <th>success_rate</th>\n",
       "    </tr>\n",
       "  </thead>\n",
       "  <tbody>\n",
       "    <tr>\n",
       "      <th>0</th>\n",
       "      <td>EC-RUC-1714753140001-195369</td>\n",
       "      <td>2.0</td>\n",
       "      <td>5.0</td>\n",
       "      <td>0.40</td>\n",
       "    </tr>\n",
       "    <tr>\n",
       "      <th>1</th>\n",
       "      <td>EC-RUC-0700917743001-256478</td>\n",
       "      <td>1.0</td>\n",
       "      <td>4.0</td>\n",
       "      <td>0.25</td>\n",
       "    </tr>\n",
       "    <tr>\n",
       "      <th>2</th>\n",
       "      <td>EC-RUC-0990022011001-8624</td>\n",
       "      <td>0.0</td>\n",
       "      <td>4.0</td>\n",
       "      <td>0.00</td>\n",
       "    </tr>\n",
       "  </tbody>\n",
       "</table>\n",
       "</div>"
      ],
      "text/plain": [
       "                            id  wins  participations  success_rate\n",
       "0  EC-RUC-1714753140001-195369   2.0             5.0          0.40\n",
       "1  EC-RUC-0700917743001-256478   1.0             4.0          0.25\n",
       "2    EC-RUC-0990022011001-8624   0.0             4.0          0.00"
      ]
     },
     "execution_count": 7,
     "metadata": {},
     "output_type": "execute_result"
    }
   ],
   "source": [
    "NF025()[1]"
   ]
  },
  {
   "cell_type": "markdown",
   "id": "8455e873",
   "metadata": {},
   "source": [
    "#### Mostrando información de un id de NF025"
   ]
  },
  {
   "cell_type": "code",
   "execution_count": 8,
   "id": "4748592e",
   "metadata": {},
   "outputs": [],
   "source": [
    "# parties[parties['id'] == 'EC-RUC-1714753140001-195369']"
   ]
  },
  {
   "cell_type": "markdown",
   "id": "1d90f829",
   "metadata": {},
   "source": [
    "# NF026"
   ]
  },
  {
   "cell_type": "code",
   "execution_count": 11,
   "id": "8d68f9d7",
   "metadata": {},
   "outputs": [],
   "source": [
    "def NF026():\n",
    "    # Limitando la obtención de Suppliers y Tenderers\n",
    "    supp_tend = parties[parties['roles'] != 'buyer']\n",
    "    \n",
    "    # Con ayuda del red-flag NF025 se obtienen las participaciones para limitar los ids necesarios\n",
    "    participations = NF025()[0]\n",
    "    participations = participations[(participations['success_rate'] < 1) & (participations['wins'] > 1)]\n",
    "    ocids_supp_tend = supp_tend[supp_tend['id'].isin(participations['id'])]['ocid']\n",
    "    supp_tend = supp_tend[supp_tend['ocid'].isin(ocids_supp_tend)]\n",
    "    \n",
    "    # Creación de tabla separando los los suppliers y tenderers para cada OCID \n",
    "    tb = pd.pivot_table(supp_tend, values='id', index='ocid', columns='roles', aggfunc=list)\n",
    "    suppliers = tb['supplier'].values.tolist()\n",
    "    suppliers = [x[0] for x in suppliers]\n",
    "    tb['supplier'] = suppliers\n",
    "    \n",
    "    # Diccionario de conteo de aparición de un participante en presencia de un ganador\n",
    "    dic = {}\n",
    "    suppliers = tb['supplier'].values.tolist()\n",
    "    tenderers = tb['tenderer'].values.tolist()\n",
    "    for supp, tend in zip(suppliers,tenderers):\n",
    "        if supp not in dic:\n",
    "            if type(tend) is list:\n",
    "                dic[supp] = {i:1 for i in tend}\n",
    "        else:\n",
    "            if type(tend) is list:\n",
    "                for i in tend:\n",
    "                    if i not in dic[supp]:\n",
    "                        dic[supp][i] = 1\n",
    "                    else:\n",
    "                        dic[supp][i] += 1\n",
    "    \n",
    "    dicDF = pd.DataFrame(dic)\n",
    "    dicDF.sort_index(axis=0, inplace=True)\n",
    "    dicDF.sort_index(axis=1, inplace=True)\n",
    "    dicDF.fillna(0, inplace=True)\n",
    "    \n",
    "    participants = dicDF.where(dicDF > 1).dropna(how='all').index.values.tolist()\n",
    "    suppliers_winners = dicDF.where(dicDF > 1).dropna(how='all',axis=1).columns.values.tolist()\n",
    "    total = participants + suppliers_winners\n",
    "    red_flag = pd.DataFrame(parties[parties['id'].isin(total)].groupby(['ocid','id'])['roles'].sum())\n",
    "    \n",
    "    return [dicDF, red_flag]"
   ]
  },
  {
   "cell_type": "code",
   "execution_count": 12,
   "id": "aefcd82e",
   "metadata": {},
   "outputs": [
    {
     "data": {
      "text/html": [
       "<div>\n",
       "<style scoped>\n",
       "    .dataframe tbody tr th:only-of-type {\n",
       "        vertical-align: middle;\n",
       "    }\n",
       "\n",
       "    .dataframe tbody tr th {\n",
       "        vertical-align: top;\n",
       "    }\n",
       "\n",
       "    .dataframe thead th {\n",
       "        text-align: right;\n",
       "    }\n",
       "</style>\n",
       "<table border=\"1\" class=\"dataframe\">\n",
       "  <thead>\n",
       "    <tr style=\"text-align: right;\">\n",
       "      <th></th>\n",
       "      <th></th>\n",
       "      <th>roles</th>\n",
       "    </tr>\n",
       "    <tr>\n",
       "      <th>ocid</th>\n",
       "      <th>id</th>\n",
       "      <th></th>\n",
       "    </tr>\n",
       "  </thead>\n",
       "  <tbody>\n",
       "    <tr>\n",
       "      <th rowspan=\"2\" valign=\"top\">ocds-5wno2w-CC-UCP-COT-001-ABR19-2539</th>\n",
       "      <th>EC-RUC-1001671336001-444357</th>\n",
       "      <td>supplier</td>\n",
       "    </tr>\n",
       "    <tr>\n",
       "      <th>EC-RUC-1714753140001-195369</th>\n",
       "      <td>tenderer</td>\n",
       "    </tr>\n",
       "    <tr>\n",
       "      <th>ocds-5wno2w-CC-UCP-SIE-002-FEB19-2539</th>\n",
       "      <th>EC-RUC-1714753140001-195369</th>\n",
       "      <td>supplier</td>\n",
       "    </tr>\n",
       "    <tr>\n",
       "      <th>ocds-5wno2w-CC-UCP-SIE-018-ABR19-2539</th>\n",
       "      <th>EC-RUC-1714753140001-195369</th>\n",
       "      <td>supplier</td>\n",
       "    </tr>\n",
       "    <tr>\n",
       "      <th rowspan=\"2\" valign=\"top\">ocds-5wno2w-CC-UCP-SIE-030-MAY19-2539</th>\n",
       "      <th>EC-RUC-1001671336001-444357</th>\n",
       "      <td>tenderer</td>\n",
       "    </tr>\n",
       "    <tr>\n",
       "      <th>EC-RUC-1714753140001-195369</th>\n",
       "      <td>tenderer</td>\n",
       "    </tr>\n",
       "    <tr>\n",
       "      <th>ocds-5wno2w-CC-UCP-SIE-041-MAY19-2539</th>\n",
       "      <th>EC-RUC-1001671336001-444357</th>\n",
       "      <td>supplier</td>\n",
       "    </tr>\n",
       "    <tr>\n",
       "      <th rowspan=\"2\" valign=\"top\">ocds-5wno2w-CC-UCP-SIE-O03-FEB19-2539</th>\n",
       "      <th>EC-RUC-1001671336001-444357</th>\n",
       "      <td>supplier</td>\n",
       "    </tr>\n",
       "    <tr>\n",
       "      <th>EC-RUC-1714753140001-195369</th>\n",
       "      <td>tenderer</td>\n",
       "    </tr>\n",
       "  </tbody>\n",
       "</table>\n",
       "</div>"
      ],
      "text/plain": [
       "                                                                      roles\n",
       "ocid                                  id                                   \n",
       "ocds-5wno2w-CC-UCP-COT-001-ABR19-2539 EC-RUC-1001671336001-444357  supplier\n",
       "                                      EC-RUC-1714753140001-195369  tenderer\n",
       "ocds-5wno2w-CC-UCP-SIE-002-FEB19-2539 EC-RUC-1714753140001-195369  supplier\n",
       "ocds-5wno2w-CC-UCP-SIE-018-ABR19-2539 EC-RUC-1714753140001-195369  supplier\n",
       "ocds-5wno2w-CC-UCP-SIE-030-MAY19-2539 EC-RUC-1001671336001-444357  tenderer\n",
       "                                      EC-RUC-1714753140001-195369  tenderer\n",
       "ocds-5wno2w-CC-UCP-SIE-041-MAY19-2539 EC-RUC-1001671336001-444357  supplier\n",
       "ocds-5wno2w-CC-UCP-SIE-O03-FEB19-2539 EC-RUC-1001671336001-444357  supplier\n",
       "                                      EC-RUC-1714753140001-195369  tenderer"
      ]
     },
     "execution_count": 12,
     "metadata": {},
     "output_type": "execute_result"
    }
   ],
   "source": [
    "NF026()[1]"
   ]
  },
  {
   "cell_type": "code",
   "execution_count": 13,
   "id": "13186cad",
   "metadata": {},
   "outputs": [
    {
     "data": {
      "image/png": "[encoded data removed]",
      "text/plain": [
       "<Figure size 1440x576 with 2 Axes>"
      ]
     },
     "metadata": {
      "needs_background": "light"
     },
     "output_type": "display_data"
    }
   ],
   "source": [
    "supp_participants = NF026()[0]\n",
    "fig,ax = plt.subplots(figsize=(20,8))\n",
    "_=sns.heatmap(supp_participants, cmap='YlOrBr', annot=True, fmt='.2f')"
   ]
  },
  {
   "cell_type": "markdown",
   "id": "f8661edc",
   "metadata": {},
   "source": [
    "# NF027"
   ]
  },
  {
   "cell_type": "code",
   "execution_count": 14,
   "id": "2e907b1d",
   "metadata": {},
   "outputs": [],
   "source": [
    "def region(x):\n",
    "    lst = x['roles']\n",
    "    addr = x['address_region']\n",
    "    ids = x['id']\n",
    "    regi = ''\n",
    "    for i,l in enumerate(lst):\n",
    "        if 'buyer' in l:\n",
    "            regi = addr[i]\n",
    "            ids.pop(i) \n",
    "    return [ids,regi,len(ids)]"
   ]
  },
  {
   "cell_type": "code",
   "execution_count": 15,
   "id": "2eaee913",
   "metadata": {},
   "outputs": [],
   "source": [
    "def NF027():\n",
    "    parties_region = parties[['ocid','roles','id','address_region']]\n",
    "    realeses_buyer = releases[['ocid','buyer_id','buyer_name']]\n",
    "    df = realeses_buyer.merge(parties_region, on='ocid')\n",
    "    \n",
    "    roles_regions = df.groupby('ocid').agg({'roles':list,'id':list,'address_region':list})\n",
    "    roles_regions[['id_ofertantes','provincia','total_ofertas']] = roles_regions.apply(region, axis=1, result_type='expand')\n",
    "    roles_regions.drop(columns=['roles','address_region','id'], inplace=True)\n",
    "    roles_regions[roles_regions['total_ofertas'] > 5]\n",
    "    \n",
    "    return roles_regions"
   ]
  },
  {
   "cell_type": "code",
   "execution_count": 16,
   "id": "c74cb93d",
   "metadata": {},
   "outputs": [
    {
     "data": {
      "text/html": [
       "<div>\n",
       "<style scoped>\n",
       "    .dataframe tbody tr th:only-of-type {\n",
       "        vertical-align: middle;\n",
       "    }\n",
       "\n",
       "    .dataframe tbody tr th {\n",
       "        vertical-align: top;\n",
       "    }\n",
       "\n",
       "    .dataframe thead th {\n",
       "        text-align: right;\n",
       "    }\n",
       "</style>\n",
       "<table border=\"1\" class=\"dataframe\">\n",
       "  <thead>\n",
       "    <tr style=\"text-align: right;\">\n",
       "      <th></th>\n",
       "      <th>id_ofertantes</th>\n",
       "      <th>provincia</th>\n",
       "      <th>total_ofertas</th>\n",
       "    </tr>\n",
       "    <tr>\n",
       "      <th>ocid</th>\n",
       "      <th></th>\n",
       "      <th></th>\n",
       "      <th></th>\n",
       "    </tr>\n",
       "  </thead>\n",
       "  <tbody>\n",
       "    <tr>\n",
       "      <th>ocds-5wno2w-003-COTBS-GADMB-2019-20973</th>\n",
       "      <td>[EC-RUC-0992442409001-39649, EC-RUC-0993105562...</td>\n",
       "      <td>LOS RIOS</td>\n",
       "      <td>2</td>\n",
       "    </tr>\n",
       "    <tr>\n",
       "      <th>ocds-5wno2w-003-COTBS-GPLR-2019-2805</th>\n",
       "      <td>[EC-RUC-1291744326001-446385, EC-RUC-130961392...</td>\n",
       "      <td>LOS RIOS</td>\n",
       "      <td>2</td>\n",
       "    </tr>\n",
       "    <tr>\n",
       "      <th>ocds-5wno2w-003-COTO-GADMB-2019-20973</th>\n",
       "      <td>[EC-RUC-1203127541001-246192]</td>\n",
       "      <td>LOS RIOS</td>\n",
       "      <td>1</td>\n",
       "    </tr>\n",
       "    <tr>\n",
       "      <th>ocds-5wno2w-003-COTO-GPLR-2019-2805</th>\n",
       "      <td>[EC-RUC-0700917743001-256478, EC-RUC-171139074...</td>\n",
       "      <td>LOS RIOS</td>\n",
       "      <td>2</td>\n",
       "    </tr>\n",
       "    <tr>\n",
       "      <th>ocds-5wno2w-003-MC-GADMB-2019-20973</th>\n",
       "      <td>[EC-RUC-1291750911001-755490]</td>\n",
       "      <td>LOS RIOS</td>\n",
       "      <td>1</td>\n",
       "    </tr>\n",
       "    <tr>\n",
       "      <th>...</th>\n",
       "      <td>...</td>\n",
       "      <td>...</td>\n",
       "      <td>...</td>\n",
       "    </tr>\n",
       "    <tr>\n",
       "      <th>ocds-5wno2w-MCO-GADPSJ-001-2019-124509</th>\n",
       "      <td>[EC-RUC-0101127553001-31989, EC-RUC-0101320190...</td>\n",
       "      <td>AZUAY</td>\n",
       "      <td>30</td>\n",
       "    </tr>\n",
       "    <tr>\n",
       "      <th>ocds-5wno2w-RE-CEE-022-2019-2504</th>\n",
       "      <td>[EC-RUC-0991284214001-5415]</td>\n",
       "      <td>PICHINCHA</td>\n",
       "      <td>1</td>\n",
       "    </tr>\n",
       "    <tr>\n",
       "      <th>ocds-5wno2w-RE-CEE-023-2019-2504</th>\n",
       "      <td>[EC-RUC-0990011109001-14740]</td>\n",
       "      <td>PICHINCHA</td>\n",
       "      <td>1</td>\n",
       "    </tr>\n",
       "    <tr>\n",
       "      <th>ocds-5wno2w-RE-EERSSA-031-2019-3240</th>\n",
       "      <td>[EC-RUC-1100616844001-331508]</td>\n",
       "      <td>LOJA</td>\n",
       "      <td>1</td>\n",
       "    </tr>\n",
       "    <tr>\n",
       "      <th>ocds-5wno2w-cdc-001-gppa-2019-116367</th>\n",
       "      <td>[EC-RUC-0400902516001-36269]</td>\n",
       "      <td>IMBABURA</td>\n",
       "      <td>1</td>\n",
       "    </tr>\n",
       "  </tbody>\n",
       "</table>\n",
       "<p>7363 rows × 3 columns</p>\n",
       "</div>"
      ],
      "text/plain": [
       "                                                                            id_ofertantes  \\\n",
       "ocid                                                                                        \n",
       "ocds-5wno2w-003-COTBS-GADMB-2019-20973  [EC-RUC-0992442409001-39649, EC-RUC-0993105562...   \n",
       "ocds-5wno2w-003-COTBS-GPLR-2019-2805    [EC-RUC-1291744326001-446385, EC-RUC-130961392...   \n",
       "ocds-5wno2w-003-COTO-GADMB-2019-20973                       [EC-RUC-1203127541001-246192]   \n",
       "ocds-5wno2w-003-COTO-GPLR-2019-2805     [EC-RUC-0700917743001-256478, EC-RUC-171139074...   \n",
       "ocds-5wno2w-003-MC-GADMB-2019-20973                         [EC-RUC-1291750911001-755490]   \n",
       "...                                                                                   ...   \n",
       "ocds-5wno2w-MCO-GADPSJ-001-2019-124509  [EC-RUC-0101127553001-31989, EC-RUC-0101320190...   \n",
       "ocds-5wno2w-RE-CEE-022-2019-2504                              [EC-RUC-0991284214001-5415]   \n",
       "ocds-5wno2w-RE-CEE-023-2019-2504                             [EC-RUC-0990011109001-14740]   \n",
       "ocds-5wno2w-RE-EERSSA-031-2019-3240                         [EC-RUC-1100616844001-331508]   \n",
       "ocds-5wno2w-cdc-001-gppa-2019-116367                         [EC-RUC-0400902516001-36269]   \n",
       "\n",
       "                                        provincia  total_ofertas  \n",
       "ocid                                                              \n",
       "ocds-5wno2w-003-COTBS-GADMB-2019-20973   LOS RIOS              2  \n",
       "ocds-5wno2w-003-COTBS-GPLR-2019-2805     LOS RIOS              2  \n",
       "ocds-5wno2w-003-COTO-GADMB-2019-20973    LOS RIOS              1  \n",
       "ocds-5wno2w-003-COTO-GPLR-2019-2805      LOS RIOS              2  \n",
       "ocds-5wno2w-003-MC-GADMB-2019-20973      LOS RIOS              1  \n",
       "...                                           ...            ...  \n",
       "ocds-5wno2w-MCO-GADPSJ-001-2019-124509      AZUAY             30  \n",
       "ocds-5wno2w-RE-CEE-022-2019-2504        PICHINCHA              1  \n",
       "ocds-5wno2w-RE-CEE-023-2019-2504        PICHINCHA              1  \n",
       "ocds-5wno2w-RE-EERSSA-031-2019-3240          LOJA              1  \n",
       "ocds-5wno2w-cdc-001-gppa-2019-116367     IMBABURA              1  \n",
       "\n",
       "[7363 rows x 3 columns]"
      ]
     },
     "execution_count": 16,
     "metadata": {},
     "output_type": "execute_result"
    }
   ],
   "source": [
    "NF027()"
   ]
  }
 ],
 "metadata": {
  "kernelspec": {
   "display_name": "Python 3",
   "language": "python",
   "name": "python3"
  },
  "language_info": {
   "codemirror_mode": {
    "name": "ipython",
    "version": 3
   },
   "file_extension": ".py",
   "mimetype": "text/x-python",
   "name": "python",
   "nbconvert_exporter": "python",
   "pygments_lexer": "ipython3",
   "version": "3.8.8"
  }
 },
 "nbformat": 4,
 "nbformat_minor": 5
}
