{
 "cells": [
  {
   "cell_type": "code",
   "execution_count": 1,
   "metadata": {},
   "outputs": [],
   "source": [
    "import pandas as pd\n",
    "import json\n",
    "import ast\n",
    "import seaborn as sns\n",
    "import pandas as pd\n",
    "import numpy as np\n",
    "import matplotlib.pyplot as plt\n",
    "from scipy import stats"
   ]
  },
  {
   "cell_type": "code",
   "execution_count": 2,
   "metadata": {},
   "outputs": [],
   "source": [
    "releases = pd.read_csv('../Data_input/releases.csv')\n",
    "tender = pd.read_csv('../Data_input/tender.csv')\n",
    "awards = pd.read_csv('../Data_input/awards.csv')\n",
    "parties = pd.read_csv('../Data_input/parties.csv')\n",
    "montos = pd.read_csv('../Data_input/Montos.csv')\n",
    "items = pd.read_csv('../Data_input/tender_items.csv')"
   ]
  },
  {
   "cell_type": "markdown",
   "metadata": {},
   "source": [
    "## Preprocesado Tender"
   ]
  },
  {
   "cell_type": "code",
   "execution_count": 3,
   "metadata": {},
   "outputs": [],
   "source": [
    "tender['tp_endDate'] = pd.to_datetime(tender['tp_endDate']).dt.date\n",
    "tender['tp_endDate'] = pd.to_datetime(tender['tp_endDate'])"
   ]
  },
  {
   "cell_type": "code",
   "execution_count": 4,
   "metadata": {},
   "outputs": [],
   "source": [
    "tender['tp_endDate'] = pd.to_datetime(tender['tp_endDate'])"
   ]
  },
  {
   "cell_type": "markdown",
   "metadata": {},
   "source": [
    "## Preprocesado Awards"
   ]
  },
  {
   "cell_type": "code",
   "execution_count": 5,
   "metadata": {},
   "outputs": [],
   "source": [
    "awards['date'] = pd.to_datetime(awards['date']).dt.date\n",
    "awards['date'] = pd.to_datetime(awards['date'])"
   ]
  },
  {
   "cell_type": "markdown",
   "metadata": {},
   "source": [
    "## Preprocesado Releases"
   ]
  },
  {
   "cell_type": "code",
   "execution_count": 6,
   "metadata": {},
   "outputs": [],
   "source": [
    "releases['contracts_dateSigned'] = pd.to_datetime(releases['contracts_dateSigned']).dt.date\n",
    "releases['contracts_dateSigned'] = pd.to_datetime(releases['contracts_dateSigned'])"
   ]
  },
  {
   "cell_type": "markdown",
   "metadata": {},
   "source": [
    "## Red Flags"
   ]
  },
  {
   "cell_type": "code",
   "execution_count": 7,
   "metadata": {},
   "outputs": [],
   "source": [
    "def NF003(df): #tender\n",
    "    limited=df.loc[(df[\"procurementMethod\"]==\"limited\")&(df[\"tp_durationInDays\"]<10)][\"ocid\"].tolist()\n",
    "    direct=df.loc[(df[\"procurementMethod\"]==\"direct\")&(df[\"tp_durationInDays\"]<9)][\"ocid\"].tolist() \n",
    "    selective = df.loc[(df[\"procurementMethod\"]==\"selective\")&(df[\"tp_durationInDays\"]<15)][\"ocid\"].tolist()\n",
    "    mopen=df.loc[(df[\"procurementMethod\"]==\"open\")&(df[\"tp_durationInDays\"]<15)][\"ocid\"].tolist()\n",
    "    redflag_NF003={\"open\":mopen,\"selective\":selective,\"limited\":limited,\"direct\":direct}\n",
    "    df_NF003=pd.DataFrame.from_dict(redflag_NF003,orient=\"index\").transpose().stack().reset_index()\n",
    "    df_NF003.columns=[\"Nivel\",\"procurementMethod\",\"ocid\"]\n",
    "    df_NF003=df_NF003.drop(columns=\"Nivel\")\n",
    "    return df_NF003"
   ]
  },
  {
   "cell_type": "code",
   "execution_count": 8,
   "metadata": {},
   "outputs": [],
   "source": [
    "def NF010(df,df_montos): #tender, montos\n",
    "    df_montos_bienes=df_montos.loc[df_montos[\"Tipo\"]==\"Bienes\"]#Separar los umbrales a utilizar\n",
    "    df_montos_obras=df_montos.loc[df_montos[\"Tipo\"]==\"Obras\"]\n",
    "    #bienes\n",
    "    df_value_bienes_norm = df.loc[df[\"mainProcurementCategory\"].isnull()]\n",
    "    df_value_bienes=df.loc[(df[\"mainProcurementCategory\"]==\"goods\")]\n",
    "    df_value_bienes=df_value_bienes.merge(df_montos_bienes,on =\"procurementMethodDetails\",how =\"left\")\n",
    "    #Se verifica que el valor de amount se encuentre dentro de los límites, para este redflag se requiere\n",
    "    #saber, si los valores se encuentran justo por debajo del límite, es decir +-10% del valor establecido\n",
    "    bienes=df_value_bienes.loc[(df_value_bienes[\"value_amount\"]>=(df_value_bienes[\"menor\"]*0.9))|(df_value_bienes[\"value_amount\"]<(df_value_bienes[\"mayor\"]*0.9))][\"ocid\"].tolist()\n",
    "    #Obras\n",
    "    df_value_obras =df.loc[(df[\"mainProcurementCategory\"]==\"works\")]\n",
    "    df_value_obras=df_value_obras.merge(df_montos_obras,on = \"procurementMethodDetails\",how = \"left\")\n",
    "    obras=df_value_obras.loc[(df_value_obras[\"value_amount\"]>=(df_value_obras[\"menor\"]*0.9))|(df_value_obras[\"value_amount\"]<(df_value_obras[\"mayor\"]*0.9))][\"ocid\"].tolist()\n",
    "    #Juntar los Ocid\n",
    "    redflag_NF010={\"bienes\":bienes,\"obras\":obras}\n",
    "    df_NF010=pd.DataFrame.from_dict(redflag_NF010,orient=\"index\").transpose().stack().reset_index()\n",
    "    df_NF010.columns=[\"Nivel\",\"mainProcurementCategory\",\"ocid\"]\n",
    "    df_NF010=df_NF010.drop(columns=\"Nivel\")\n",
    "    return df_NF010"
   ]
  },
  {
   "cell_type": "code",
   "execution_count": 9,
   "metadata": {},
   "outputs": [],
   "source": [
    "def NF011():\n",
    "    df_items=items.merge(tender[[\"ocid\",\"tp_startDate\",\"procuringEntity_name\",\"procurementMethod\",\"procurementMethodDetails\"]],on=\"ocid\",how =\"left\")\n",
    "    df_items[\"tp_startDate\"]=pd.to_datetime(df_items[\"tp_startDate\"])\n",
    "    #Se realiza una agrupación por método, entidad contratante y tipo de compra, sacando un total del valor adjunto a cada grupo\n",
    "    dfg_items=df_items.groupby([\"procuringEntity_name\",\"classification_id\",\"procurementMethod\",\"procurementMethodDetails\",pd.Grouper(key=\"tp_startDate\",freq=\"3M\")])[\"unit_value_amount\"].sum().reset_index()\n",
    "    #Se separa cada una de las distintas secciones a comparar con los datos externos\n",
    "    dfg_competitive = dfg_items.loc[(dfg_items[\"procurementMethod\"]!=\"direct\")]\n",
    "    dfg_non_competitve = dfg_items.loc[(dfg_items[\"procurementMethod\"]==\"direct\")]\n",
    "    threshold = montos.loc[(montos[\"Tipo\"]!=\"Obras\")]\n",
    "    dfg_competitive=dfg_competitive.merge(threshold[[\"procurementMethodDetails\",\"mayor\",\"menor\"]], on=\"procurementMethodDetails\", how=\"left\")\n",
    "    dfg_non_competitve=dfg_non_competitve.merge(threshold[[\"procurementMethodDetails\",\"mayor\",\"menor\"]], on=\"procurementMethodDetails\", how=\"left\")\n",
    "    entity_competitive = dfg_competitive.loc[(dfg_competitive[\"unit_value_amount\"]>=(dfg_competitive[\"menor\"]))|(dfg_competitive[\"unit_value_amount\"]<(dfg_competitive[\"mayor\"]))][\"procuringEntity_name\"].tolist()\n",
    "    entity_non_competitive = dfg_non_competitve.loc[(dfg_non_competitve[\"unit_value_amount\"]>=(dfg_non_competitve[\"menor\"]))|(dfg_non_competitve[\"unit_value_amount\"]<(dfg_non_competitve[\"mayor\"]))][\"procuringEntity_name\"].tolist()\n",
    "    redflag_NF011={\"Competitive\":entity_competitive,\"Non_competitive\":entity_non_competitive}\n",
    "    df_NF011=pd.DataFrame.from_dict(redflag_NF011,orient=\"index\").transpose().stack().reset_index()\n",
    "    df_NF011.columns=[\"Nivel\",\"procurementMethod\",\"procuringEntity_name\"]\n",
    "    df_NF011=df_NF011.drop(columns=[\"Nivel\",\"procurementMethod\"])\n",
    "    df_NF011.drop_duplicates(inplace=True)\n",
    "    df_NF011.reset_index(drop=True, inplace=True)\n",
    "    return df_NF011"
   ]
  },
  {
   "cell_type": "code",
   "execution_count": null,
   "metadata": {},
   "outputs": [],
   "source": [
    "NF011()"
   ]
  },
  {
   "cell_type": "code",
   "execution_count": 10,
   "metadata": {},
   "outputs": [],
   "source": [
    "def NF016():\n",
    "    df_items=items.merge(tender[[\"ocid\",\"value_amount\"]],on=\"ocid\",how =\"left\")\n",
    "    dfg_items=df_items.groupby(['ocid','classification_id'])[\"unit_value_amount\"].mean().reset_index()\n",
    "    ocid_16=dfg_items.loc[(stats.zscore(dfg_items[\"unit_value_amount\"])>3)|(stats.zscore(dfg_items[\"unit_value_amount\"])<-3)][\"ocid\"].tolist()\n",
    "    df_NF016=pd.DataFrame(ocid_16)\n",
    "    df_NF016.columns=[\"ocid\"]\n",
    "    return df_NF016"
   ]
  },
  {
   "cell_type": "code",
   "execution_count": 11,
   "metadata": {},
   "outputs": [],
   "source": [
    "def NF018():\n",
    "    ocid_18=tender.loc[(tender['procurementMethod']!=\"direct\")&(tender['numberOfTenderers']<=1)][\"ocid\"].tolist()\n",
    "    df_NF018=pd.DataFrame(ocid_18)\n",
    "    df_NF018.columns=[\"ocid\"]\n",
    "    return df_NF018"
   ]
  },
  {
   "cell_type": "code",
   "execution_count": 12,
   "metadata": {},
   "outputs": [],
   "source": [
    "def NF019():\n",
    "    df_items=items.merge(tender[[\"ocid\",\"procuringEntity_name\",\"procurementMethod\",\"tp_startDate\",\"numberOfTenderers\"]],on=\"ocid\",how =\"left\")\n",
    "    df_items[\"tp_startDate\"]=pd.to_datetime(df_items[\"tp_startDate\"])\n",
    "    dfg_items=df_items.groupby([\"ocid\",'classification_id',\"procuringEntity_name\",\"procurementMethod\",pd.Grouper(key=\"tp_startDate\",freq=\"M\")])[\"numberOfTenderers\"].sum().reset_index()\n",
    "    mean_byitem = df_items.groupby(['classification_id',pd.Grouper(key=\"tp_startDate\",freq=\"M\")])[\"numberOfTenderers\"].sum().reset_index()\n",
    "    mean_byitem.columns = ['classification_id', 'tp_startDate', 'mean_numberOfTenderers']\n",
    "    dfg_items=dfg_items.merge(mean_byitem[['classification_id','mean_numberOfTenderers']],on='classification_id',how =\"left\")\n",
    "    entity_19 = dfg_items.loc[dfg_items[\"numberOfTenderers\"]>dfg_items['mean_numberOfTenderers']][\"procuringEntity_name\"].tolist()\n",
    "    df_NF019=pd.DataFrame(entity_19)\n",
    "    df_NF019.columns=[\"procuringEntity_name\"]\n",
    "    df_NF019.drop_duplicates(inplace=True)\n",
    "    df_NF019.reset_index(drop=True, inplace=True)\n",
    "    \n",
    "    return df_NF019"
   ]
  },
  {
   "cell_type": "code",
   "execution_count": 13,
   "metadata": {},
   "outputs": [],
   "source": [
    "def NF025():\n",
    "    # Solo participación de tenderers\n",
    "    tenderers_id = pd.DataFrame(parties[parties['roles'] != 'buyer'].groupby('id')['roles'].value_counts())\n",
    "    tenderers_id.rename(columns={'roles':'participations'}, inplace=True)\n",
    "    tenderers_id.reset_index(inplace=True)\n",
    "    tenderers_id = tenderers_id[tenderers_id['roles'] == 'tenderer']\n",
    "    \n",
    "    # Ganadores de cada ocid\n",
    "    winners = awards['supplier_id'].value_counts().reset_index()\n",
    "    winners.rename(columns = {'index':'id', 'supplier_id':'wins'}, inplace=True)\n",
    "    \n",
    "    # Ganadores y participaciones\n",
    "    participations = winners.merge(tenderers_id[['id','participations']], on='id', how='outer')\n",
    "    participations['wins'].fillna(0, inplace=True)\n",
    "    participations['participations'].fillna(0, inplace=True)\n",
    "    participations['participations'] = participations['wins'] + participations['participations']\n",
    "\n",
    "    # Límite de ids dependiendo de la tasa de éxitos\n",
    "    participations['success_rate'] = participations['wins']/participations['participations']\n",
    "    red_flag = participations[(participations['success_rate'] < 0.75) & (participations['participations'] > 3)]\n",
    "    red_flag = red_flag.sort_values(by='participations', ascending=False)\n",
    "    red_flag.reset_index(drop=True, inplace=True)\n",
    "    \n",
    "    # Se retorna una lista de DataFrames - Índice 0 participaciones - Índice 1 Ids que generan red-flag\n",
    "    return [participations, red_flag]"
   ]
  },
  {
   "cell_type": "code",
   "execution_count": 14,
   "metadata": {},
   "outputs": [],
   "source": [
    "def NF026():\n",
    "    # Limitando la obtención de Suppliers y Tenderers\n",
    "    supp_tend = parties[parties['roles'] != 'buyer']\n",
    "    \n",
    "    # Con ayuda del red-flag NF025 se obtienen las participaciones para limitar los ids necesarios\n",
    "    participations = NF025()[0]\n",
    "    participations = participations[(participations['success_rate'] < 1) & (participations['wins'] > 1)]\n",
    "    ocids_supp_tend = supp_tend[supp_tend['id'].isin(participations['id'])]['ocid']\n",
    "    supp_tend = supp_tend[supp_tend['ocid'].isin(ocids_supp_tend)]\n",
    "    \n",
    "    # Creación de tabla separando los los suppliers y tenderers para cada OCID \n",
    "    tb = pd.pivot_table(supp_tend, values='id', index='ocid', columns='roles', aggfunc=list)\n",
    "    suppliers = tb['supplier'].values.tolist()\n",
    "    suppliers = [x[0] for x in suppliers]\n",
    "    tb['supplier'] = suppliers\n",
    "    \n",
    "    # Diccionario de conteo de aparición de un participante en presencia de un ganador\n",
    "    dic = {}\n",
    "    suppliers = tb['supplier'].values.tolist()\n",
    "    tenderers = tb['tenderer'].values.tolist()\n",
    "    for supp, tend in zip(suppliers,tenderers):\n",
    "        if supp not in dic:\n",
    "            if type(tend) is list:\n",
    "                dic[supp] = {i:1 for i in tend}\n",
    "        else:\n",
    "            if type(tend) is list:\n",
    "                for i in tend:\n",
    "                    if i not in dic[supp]:\n",
    "                        dic[supp][i] = 1\n",
    "                    else:\n",
    "                        dic[supp][i] += 1\n",
    "    \n",
    "    dicDF = pd.DataFrame(dic)\n",
    "    dicDF.sort_index(axis=0, inplace=True)\n",
    "    dicDF.sort_index(axis=1, inplace=True)\n",
    "    dicDF.fillna(0, inplace=True)\n",
    "    \n",
    "    participants = dicDF.where(dicDF > 1).dropna(how='all').index.values.tolist()\n",
    "    suppliers_winners = dicDF.where(dicDF > 1).dropna(how='all',axis=1).columns.values.tolist()\n",
    "    total = participants + suppliers_winners\n",
    "    red_flag = pd.DataFrame(parties[parties['id'].isin(total)].groupby(['ocid','id'])['roles'].sum()).reset_index()\n",
    "    \n",
    "    return [dicDF, red_flag]"
   ]
  },
  {
   "cell_type": "code",
   "execution_count": 15,
   "metadata": {},
   "outputs": [],
   "source": [
    "def region(x):\n",
    "    lst = x['roles']\n",
    "    addr = x['address_region']\n",
    "    ids = x['id']\n",
    "    regi = ''\n",
    "    for i,l in enumerate(lst):\n",
    "        if 'buyer' in l:\n",
    "            regi = addr[i]\n",
    "            ids.pop(i) \n",
    "    return [ids,regi,len(ids)]"
   ]
  },
  {
   "cell_type": "code",
   "execution_count": 16,
   "metadata": {},
   "outputs": [],
   "source": [
    "def NF027():\n",
    "    parties_region = parties[['ocid','roles','id','address_region']]\n",
    "    realeses_buyer = releases[['ocid','buyer_id','buyer_name']]\n",
    "    df = realeses_buyer.merge(parties_region, on='ocid')\n",
    "    \n",
    "    roles_regions = df.groupby('ocid').agg({'roles':list,'id':list,'address_region':list})\n",
    "    roles_regions[['id_ofertantes','provincia','total_ofertas']] = roles_regions.apply(region, axis=1, result_type='expand')\n",
    "    roles_regions.drop(columns=['roles','address_region','id'], inplace=True)\n",
    "    roles_regions = roles_regions[roles_regions['total_ofertas'] > 5]\n",
    "    \n",
    "    return roles_regions.reset_index()"
   ]
  },
  {
   "cell_type": "code",
   "execution_count": 17,
   "metadata": {},
   "outputs": [],
   "source": [
    "def NF031():\n",
    "    reles = releases[['ocid','buyer_id','buyer_name','planning_budget_amount']]\n",
    "    aw =awards[['ocid','amount','id_awards']]\n",
    "    df = reles.merge(aw, on='ocid')\n",
    "    df.rename(columns={'id_awards':'supplier_id'}, inplace=True)\n",
    "    df['amount/budget'] = df['amount'] / df['planning_budget_amount']\n",
    "    df.fillna(0, inplace=True)\n",
    "    red_flag = df[df['amount/budget'] > 1]\n",
    "    \n",
    "    return red_flag"
   ]
  },
  {
   "cell_type": "code",
   "execution_count": 18,
   "metadata": {},
   "outputs": [],
   "source": [
    "def NF042(df): #parties\n",
    "    df=df.loc[df[\"roles\"]!=\"buyer\"]\n",
    "    df_telefono=df.loc[df[\"contactPoint_telephone\"].notnull()]\n",
    "    df_telefono[\"contactPoint_telephone\"] = df_telefono[\"contactPoint_telephone\"].astype(str)\n",
    "    df_telefono=df_telefono.loc[df_telefono[\"contactPoint_telephone\"].str.len()!=10]\n",
    "    df_postal=df.loc[df[\"address_postalCode\"].notnull()]\n",
    "    df_postal[\"address_postalCode\"] = df_postal[\"address_postalCode\"].astype(str)\n",
    "    df_postal=df_postal.loc[df_postal[\"address_postalCode\"].str.len()!=6]\n",
    "    df_direccion=df.loc[df[\"address_streetAddress\"].isnull()]\n",
    "    df_final=pd.concat([df_telefono,df_postal,df_direccion])\n",
    "    df_final.drop_duplicates(subset=[\"ocid\"], keep=\"last\", inplace = True)\n",
    "    lista_ocid=list(df_final[\"ocid\"])\n",
    "    dicc={\"ocid\":lista_ocid}\n",
    "    df_retorno=pd.DataFrame(dicc)\n",
    "    return df_retorno"
   ]
  },
  {
   "cell_type": "code",
   "execution_count": 19,
   "metadata": {},
   "outputs": [],
   "source": [
    "def NF043(df): #parties\n",
    "    df_telefono=df.loc[df[\"contactPoint_telephone\"].notnull()]\n",
    "    df_telefono=df_telefono.loc[df_telefono.duplicated(subset=[\"ocid\",\"contactPoint_telephone\"],keep=False)]\n",
    "    df_telefono=df_telefono.groupby(\"ocid\")[\"roles\"].sum().reset_index()\n",
    "    f1,c1=df_telefono.shape\n",
    "    if f1!=0:\n",
    "        df_telefono=df_telefono.loc[df_telefono[\"roles\"].str.contains(\"buyer\")]\n",
    "    df_postal=df.loc[df[\"address_postalCode\"].notnull()]\n",
    "    df_postal=df_postal.loc[df_postal.duplicated(subset=[\"ocid\",\"address_postalCode\"],keep=False)]\n",
    "    df_postal=df_postal.groupby(\"ocid\")[\"roles\"].sum().reset_index()\n",
    "    f2,c2=df_postal.shape\n",
    "    if f2!=0:\n",
    "        df_postal=df_postal.loc[df_postal[\"roles\"].str.contains(\"buyer\")]\n",
    "    df_direccion=df.loc[df[\"address_streetAddress\"].notnull()]\n",
    "    df_direccion=df_direccion.loc[df_direccion.duplicated(subset=[\"ocid\",\"address_streetAddress\"],keep=False)]\n",
    "    df_direccion=df_direccion.groupby(\"ocid\")[\"roles\"].sum().reset_index()\n",
    "    f3,c3=df_direccion.shape\n",
    "    if f3!=0:\n",
    "        df_direccion=df_direccion.loc[df_direccion[\"roles\"].str.contains(\"buyer\")]\n",
    "    df_final=pd.concat([df_telefono,df_postal,df_direccion])\n",
    "    df_final.drop_duplicates(subset=[\"ocid\"], keep=\"last\", inplace = True)\n",
    "    lista_ocid=list(df_final[\"ocid\"])\n",
    "    dicc={\"ocid\":lista_ocid}\n",
    "    df_retorno=pd.DataFrame(dicc)\n",
    "    return df_retorno"
   ]
  },
  {
   "cell_type": "code",
   "execution_count": 20,
   "metadata": {},
   "outputs": [],
   "source": [
    "def NF044(df): #parties\n",
    "    df=df.loc[df[\"roles\"]!=\"buyer\"]\n",
    "    df_telefono=df.loc[df[\"contactPoint_telephone\"].notnull()]\n",
    "    df_telefono=df_telefono.loc[df_telefono.duplicated(subset=[\"ocid\",\"contactPoint_telephone\"],keep=False)]\n",
    "    df_postal=df.loc[df[\"address_postalCode\"].notnull()]\n",
    "    df_postal=df_postal.loc[df_postal.duplicated(subset=[\"ocid\",\"address_postalCode\"],keep=False)]\n",
    "    df_direccion=df.loc[df[\"address_streetAddress\"].notnull()]\n",
    "    df_direccion=df_direccion.loc[df_direccion.duplicated(subset=[\"ocid\",\"address_streetAddress\"],keep=False)]\n",
    "    df_name=df.loc[df[\"contactPoint_name\"].notnull()]\n",
    "    df_name=df_name.loc[df_name.duplicated(subset=[\"ocid\",\"contactPoint_name\"],keep=False)]\n",
    "    df_email=df.loc[df[\"contactPoint_email\"].notnull()]\n",
    "    df_email=df_email.loc[df_email.duplicated(subset=[\"ocid\",\"contactPoint_email\"],keep=False)]\n",
    "    df_final=pd.concat([df_telefono,df_postal,df_direccion,df_name,df_email])\n",
    "    df_final.drop_duplicates(subset=[\"ocid\"], keep=\"last\", inplace = True)\n",
    "    lista_ocid=list(df_final[\"ocid\"])\n",
    "    dicc={\"ocid\":lista_ocid}\n",
    "    df_retorno=pd.DataFrame(dicc)\n",
    "    return df_retorno"
   ]
  },
  {
   "cell_type": "code",
   "execution_count": 21,
   "metadata": {},
   "outputs": [],
   "source": [
    "def NF047(df): #tender\n",
    "    df=df.loc[df[\"roles\"]==\"supplier\"]\n",
    "    df_url=df.loc[df[\"contactPoint_url\"].isnull()]\n",
    "    lista_ocid=list(df_url[\"ocid\"])\n",
    "    dicc={\"ocid\":lista_ocid}\n",
    "    df_retorno=pd.DataFrame(dicc)\n",
    "    return df_retorno"
   ]
  },
  {
   "cell_type": "code",
   "execution_count": 22,
   "metadata": {},
   "outputs": [],
   "source": [
    "def tenderPeriod():\n",
    "    df_period = tender[['ocid', 'tp_endDate', 'procurementMethod']].merge(awards[['ocid', 'date']], on='ocid')\n",
    "    df_period['decision_period'] = df_period['date'] - df_period['tp_endDate']\n",
    "    df_period = df_period.loc[df_period['decision_period'].notnull()].reset_index(drop=True)\n",
    "    df_period['decision_period'] = df_period['decision_period'].dt.days\n",
    "    df_period = df_period[df_period['procurementMethod'] != 'direct']\n",
    "    return df_period"
   ]
  },
  {
   "cell_type": "code",
   "execution_count": 23,
   "metadata": {},
   "outputs": [],
   "source": [
    "def NF063():\n",
    "    df_period = tenderPeriod()\n",
    "    mascara = df_period['decision_period'] >= (df_period['decision_period'].mean() * 1.5)\n",
    "    outliers = df_period.loc[mascara]\n",
    "    return outliers"
   ]
  },
  {
   "cell_type": "code",
   "execution_count": 24,
   "metadata": {},
   "outputs": [],
   "source": [
    "def NF062():\n",
    "    df_period = tenderPeriod()\n",
    "    mascara = df_period['decision_period'] <= (df_period['decision_period'].mean() * 0.5)\n",
    "    outliers = df_period.loc[mascara]\n",
    "    return outliers"
   ]
  },
  {
   "cell_type": "code",
   "execution_count": 25,
   "metadata": {},
   "outputs": [],
   "source": [
    "def NF061():\n",
    "    df_period = releases[['ocid', 'contracts_dateSigned']].merge(awards[['ocid', 'date']], on='ocid')\n",
    "    df_period['contract_period'] = df_period['contracts_dateSigned'] - df_period['date']\n",
    "    df_period = df_period.loc[df_period['contract_period'].notnull()].reset_index(drop=True)\n",
    "    df_period['contract_period'] = df_period['contract_period'].dt.days\n",
    "    # Outliners decision_period\n",
    "    q3 = df_period['contract_period'].quantile(0.75)\n",
    "    q1 = df_period['contract_period'].quantile(0.25)\n",
    "    iqr = q3 - q1\n",
    "    mascara = (df_period['contract_period'] > (q3 + 1.5*iqr))\n",
    "    outliers = df_period.loc[mascara]\n",
    "    return outliers"
   ]
  },
  {
   "cell_type": "code",
   "execution_count": 26,
   "metadata": {},
   "outputs": [],
   "source": [
    "def NF059():\n",
    "    df_amount = awards[['ocid', 'amount']].merge(releases[['ocid', 'contracts_value_amount']], on='ocid')\n",
    "    df_amount['amount_difference'] = df_amount['contracts_value_amount'] - df_amount['amount']\n",
    "    df_amount = df_amount[(df_amount['amount_difference'].notnull()) & (df_amount['amount_difference'] != 0)]\n",
    "    df_amount['difference_perc'] = abs(df_amount['amount_difference'] / df_amount['amount'])\n",
    "    df_amount = df_amount[df_amount['difference_perc'] > 0.3]\n",
    "    return df_amount"
   ]
  },
  {
   "cell_type": "code",
   "execution_count": 27,
   "metadata": {
    "scrolled": true
   },
   "outputs": [],
   "source": [
    "df1 = awards[['ocid', 'amount', 'supplier_name']]\n",
    "df2 = tender[['ocid', 'procurementMethod', 'mainProcurementCategory', 'procurementMethodDetails']]\n",
    "dfsup = df1.merge(df2, on='ocid')\n",
    "dfsup = dfsup[dfsup['procurementMethod'] == 'direct']"
   ]
  },
  {
   "cell_type": "code",
   "execution_count": 28,
   "metadata": {},
   "outputs": [],
   "source": [
    "dfg = dfsup.groupby('supplier_name').agg({'amount':[np.sum, np.size]})\n",
    "dfg.columns = dfg.columns.droplevel()\n",
    "dfg = dfg.reset_index()"
   ]
  },
  {
   "cell_type": "code",
   "execution_count": 29,
   "metadata": {},
   "outputs": [],
   "source": [
    "def NF055():\n",
    "    dfsup = awards[['ocid', 'supplier_id', 'supplier_name']].merge(tender[['ocid', 'procurementMethod']], on='ocid')"
   ]
  },
  {
   "cell_type": "code",
   "execution_count": null,
   "metadata": {},
   "outputs": [],
   "source": [
    "NF059()"
   ]
  },
  {
   "cell_type": "markdown",
   "metadata": {},
   "source": [
    "## Almacenamiento de red flags"
   ]
  },
  {
   "cell_type": "code",
   "execution_count": 30,
   "metadata": {},
   "outputs": [],
   "source": [
    "def generate_df(red_flag_df, red_flag_code):\n",
    "    red_flag_df['Red Flag'] = np.nan\n",
    "    red_flag_df['Red Flag'].fillna(red_flag_code, inplace=True)\n",
    "    red_flag_df.drop(columns=['index'], inplace=True)\n",
    "    return red_flag_df"
   ]
  },
  {
   "cell_type": "code",
   "execution_count": 31,
   "metadata": {},
   "outputs": [],
   "source": [
    "df_ocid = pd.DataFrame() "
   ]
  },
  {
   "cell_type": "code",
   "execution_count": 32,
   "metadata": {},
   "outputs": [],
   "source": [
    "df_NF003 = NF003(tender)\n",
    "df_ocid = generate_df(df_NF003['ocid'].reset_index(), 'NF003')"
   ]
  },
  {
   "cell_type": "code",
   "execution_count": 33,
   "metadata": {},
   "outputs": [],
   "source": [
    "df_NF010 = NF010(tender, montos)\n",
    "df_ocid = pd.concat([df_ocid, generate_df(df_NF010['ocid'].reset_index(), 'NF010')])"
   ]
  },
  {
   "cell_type": "code",
   "execution_count": 34,
   "metadata": {},
   "outputs": [],
   "source": [
    "df_NF016 = NF016()\n",
    "df_ocid = pd.concat([df_ocid, generate_df(df_NF016['ocid'].reset_index(), 'NF016')])"
   ]
  },
  {
   "cell_type": "code",
   "execution_count": 35,
   "metadata": {},
   "outputs": [],
   "source": [
    "df_NF018 = NF018()\n",
    "df_ocid = pd.concat([df_ocid, generate_df(df_NF018['ocid'].reset_index(), 'NF018')])"
   ]
  },
  {
   "cell_type": "code",
   "execution_count": 36,
   "metadata": {},
   "outputs": [],
   "source": [
    "df_NF026 = NF026()[1].drop_duplicates(subset=['ocid'])\n",
    "df_ocid = pd.concat([df_ocid, generate_df(df_NF026['ocid'].reset_index(), 'NF026')])"
   ]
  },
  {
   "cell_type": "code",
   "execution_count": 37,
   "metadata": {},
   "outputs": [],
   "source": [
    "df_NF027 = NF027()\n",
    "df_ocid = pd.concat([df_ocid, generate_df(df_NF027['ocid'].reset_index(), 'NF027')])"
   ]
  },
  {
   "cell_type": "code",
   "execution_count": 38,
   "metadata": {},
   "outputs": [],
   "source": [
    "df_NF031 = NF031()\n",
    "df_ocid = pd.concat([df_ocid, generate_df(df_NF031['ocid'].reset_index(), 'NF031')])"
   ]
  },
  {
   "cell_type": "code",
   "execution_count": 39,
   "metadata": {},
   "outputs": [
    {
     "name": "stderr",
     "output_type": "stream",
     "text": [
      "c:\\users\\sof-d\\appdata\\local\\programs\\python\\python37\\lib\\site-packages\\ipykernel_launcher.py:7: SettingWithCopyWarning: \n",
      "A value is trying to be set on a copy of a slice from a DataFrame.\n",
      "Try using .loc[row_indexer,col_indexer] = value instead\n",
      "\n",
      "See the caveats in the documentation: https://pandas.pydata.org/pandas-docs/stable/user_guide/indexing.html#returning-a-view-versus-a-copy\n",
      "  import sys\n"
     ]
    }
   ],
   "source": [
    "df_NF042 = NF042(parties)\n",
    "df_ocid = pd.concat([df_ocid, generate_df(df_NF042['ocid'].reset_index(), 'NF042')])"
   ]
  },
  {
   "cell_type": "code",
   "execution_count": 40,
   "metadata": {},
   "outputs": [],
   "source": [
    "df_NF043 = NF043(parties)\n",
    "df_ocid = pd.concat([df_ocid, generate_df(df_NF043['ocid'].reset_index(), 'NF043')])"
   ]
  },
  {
   "cell_type": "code",
   "execution_count": 41,
   "metadata": {},
   "outputs": [],
   "source": [
    "df_NF044 = NF044(parties)\n",
    "df_ocid = pd.concat([df_ocid, generate_df(df_NF044['ocid'].reset_index(), 'NF044')])"
   ]
  },
  {
   "cell_type": "code",
   "execution_count": 42,
   "metadata": {},
   "outputs": [],
   "source": [
    "df_NF047 = NF047(parties)\n",
    "df_ocid = pd.concat([df_ocid, generate_df(df_NF047['ocid'].reset_index(), 'NF047')])"
   ]
  },
  {
   "cell_type": "code",
   "execution_count": 43,
   "metadata": {},
   "outputs": [],
   "source": [
    "df_NF059 = NF059()\n",
    "df_ocid = pd.concat([df_ocid, generate_df(df_NF059['ocid'].reset_index(), 'NF059')])"
   ]
  },
  {
   "cell_type": "code",
   "execution_count": 44,
   "metadata": {},
   "outputs": [],
   "source": [
    "df_NF061 = NF061()\n",
    "df_ocid = pd.concat([df_ocid, generate_df(df_NF061['ocid'].reset_index(), 'NF061')])"
   ]
  },
  {
   "cell_type": "code",
   "execution_count": 45,
   "metadata": {},
   "outputs": [],
   "source": [
    "df_NF062 = NF062()\n",
    "df_ocid = pd.concat([df_ocid, generate_df(df_NF062['ocid'].reset_index(), 'NF062')])"
   ]
  },
  {
   "cell_type": "code",
   "execution_count": 46,
   "metadata": {},
   "outputs": [],
   "source": [
    "df_NF063 = NF063()\n",
    "df_ocid = pd.concat([df_ocid, generate_df(df_NF063['ocid'].reset_index(), 'NF063')])"
   ]
  },
  {
   "cell_type": "code",
   "execution_count": 47,
   "metadata": {},
   "outputs": [],
   "source": [
    "df_ocid.reset_index(drop=True, inplace=True)"
   ]
  },
  {
   "cell_type": "code",
   "execution_count": 48,
   "metadata": {},
   "outputs": [
    {
     "data": {
      "text/html": [
       "<div>\n",
       "<style scoped>\n",
       "    .dataframe tbody tr th:only-of-type {\n",
       "        vertical-align: middle;\n",
       "    }\n",
       "\n",
       "    .dataframe tbody tr th {\n",
       "        vertical-align: top;\n",
       "    }\n",
       "\n",
       "    .dataframe thead th {\n",
       "        text-align: right;\n",
       "    }\n",
       "</style>\n",
       "<table border=\"1\" class=\"dataframe\">\n",
       "  <thead>\n",
       "    <tr style=\"text-align: right;\">\n",
       "      <th></th>\n",
       "      <th>Red Flag</th>\n",
       "      <th>procuringEntity_name</th>\n",
       "    </tr>\n",
       "  </thead>\n",
       "  <tbody>\n",
       "    <tr>\n",
       "      <th>0</th>\n",
       "      <td>NF011</td>\n",
       "      <td>BANCO CENTRAL DEL ECUADOR</td>\n",
       "    </tr>\n",
       "    <tr>\n",
       "      <th>1</th>\n",
       "      <td>NF011</td>\n",
       "      <td>CONSEJO DE GOBIERNO DEL REGIMEN ESPECIAL DE GA...</td>\n",
       "    </tr>\n",
       "    <tr>\n",
       "      <th>2</th>\n",
       "      <td>NF011</td>\n",
       "      <td>CORPORACION ELECTRICA DEL ECUADOR CELEC EP</td>\n",
       "    </tr>\n",
       "    <tr>\n",
       "      <th>3</th>\n",
       "      <td>NF011</td>\n",
       "      <td>CORPORACION ELECTRICA DEL ECUADOR CELEC EP.</td>\n",
       "    </tr>\n",
       "    <tr>\n",
       "      <th>4</th>\n",
       "      <td>NF011</td>\n",
       "      <td>CUERPO DE INGENIEROS DEL EJERCITO</td>\n",
       "    </tr>\n",
       "    <tr>\n",
       "      <th>5</th>\n",
       "      <td>NF011</td>\n",
       "      <td>DIRECCION DISTRITAL 02D01-GUARANDA-BOLIVAR-MTOP</td>\n",
       "    </tr>\n",
       "    <tr>\n",
       "      <th>6</th>\n",
       "      <td>NF011</td>\n",
       "      <td>DIRECCION DISTRITAL 13D01 - PORTOVIEJO - MANAB...</td>\n",
       "    </tr>\n",
       "    <tr>\n",
       "      <th>7</th>\n",
       "      <td>NF011</td>\n",
       "      <td>DIRECCION DISTRITAL 21D02C01-NUEVA LOJA-SUCUMB...</td>\n",
       "    </tr>\n",
       "    <tr>\n",
       "      <th>8</th>\n",
       "      <td>NF011</td>\n",
       "      <td>DIRECCION NACIONAL DE ANTINARCOTICOS</td>\n",
       "    </tr>\n",
       "    <tr>\n",
       "      <th>9</th>\n",
       "      <td>NF011</td>\n",
       "      <td>EMPRESA ELECTRICA REGIONAL CENTROSUR C.A.</td>\n",
       "    </tr>\n",
       "    <tr>\n",
       "      <th>10</th>\n",
       "      <td>NF011</td>\n",
       "      <td>EMPRESA ELÉCTRICA PÚBLICA ESTRATÉGICA CORPORAC...</td>\n",
       "    </tr>\n",
       "    <tr>\n",
       "      <th>11</th>\n",
       "      <td>NF011</td>\n",
       "      <td>EMPRESA ELÉCTRICA QUITO S.A. E.E.Q.</td>\n",
       "    </tr>\n",
       "    <tr>\n",
       "      <th>12</th>\n",
       "      <td>NF011</td>\n",
       "      <td>EMPRESA PÙBLICA MUNICIPAL DE AGUA POTABLE, Y A...</td>\n",
       "    </tr>\n",
       "    <tr>\n",
       "      <th>13</th>\n",
       "      <td>NF011</td>\n",
       "      <td>EMPRESA PÚBLICA CENTROS DE ENTRENAMIENTO PARA ...</td>\n",
       "    </tr>\n",
       "    <tr>\n",
       "      <th>14</th>\n",
       "      <td>NF011</td>\n",
       "      <td>Empresa Pública Metropolitana de Agua Potable ...</td>\n",
       "    </tr>\n",
       "    <tr>\n",
       "      <th>15</th>\n",
       "      <td>NF011</td>\n",
       "      <td>Empresa Pública de hidrocarburos del Ecuador E...</td>\n",
       "    </tr>\n",
       "    <tr>\n",
       "      <th>16</th>\n",
       "      <td>NF011</td>\n",
       "      <td>Fundacion Municipal de Transporte Masivo Urban...</td>\n",
       "    </tr>\n",
       "    <tr>\n",
       "      <th>17</th>\n",
       "      <td>NF011</td>\n",
       "      <td>GOBIERNO AUTONOMO DESCENTRALIZADO DE LA PROVIN...</td>\n",
       "    </tr>\n",
       "    <tr>\n",
       "      <th>18</th>\n",
       "      <td>NF011</td>\n",
       "      <td>GOBIERNO AUTONOMO DESCENTRALIZADO DE LA PROVIN...</td>\n",
       "    </tr>\n",
       "    <tr>\n",
       "      <th>19</th>\n",
       "      <td>NF011</td>\n",
       "      <td>GOBIERNO AUTONOMO DESCENTRALIZADO MUNICIPAL DE...</td>\n",
       "    </tr>\n",
       "    <tr>\n",
       "      <th>20</th>\n",
       "      <td>NF011</td>\n",
       "      <td>GOBIERNO AUTONOMO DESCENTRALIZADO MUNICIPAL DE...</td>\n",
       "    </tr>\n",
       "    <tr>\n",
       "      <th>21</th>\n",
       "      <td>NF011</td>\n",
       "      <td>GOBIERNO AUTONOMO DESCENTRALIZADO PARROQUIAL D...</td>\n",
       "    </tr>\n",
       "    <tr>\n",
       "      <th>22</th>\n",
       "      <td>NF011</td>\n",
       "      <td>GOBIERNO MUNICIPAL DE MERA</td>\n",
       "    </tr>\n",
       "    <tr>\n",
       "      <th>23</th>\n",
       "      <td>NF011</td>\n",
       "      <td>GOBIERNO PROVINCIAL DE LOS RIOS</td>\n",
       "    </tr>\n",
       "    <tr>\n",
       "      <th>24</th>\n",
       "      <td>NF011</td>\n",
       "      <td>Gobierno Provincial del Guayas</td>\n",
       "    </tr>\n",
       "    <tr>\n",
       "      <th>25</th>\n",
       "      <td>NF011</td>\n",
       "      <td>Guayaquil Siglo XXI, Fundación Municipal para ...</td>\n",
       "    </tr>\n",
       "    <tr>\n",
       "      <th>26</th>\n",
       "      <td>NF011</td>\n",
       "      <td>MUNICIPIO DE MONTECRISTI</td>\n",
       "    </tr>\n",
       "    <tr>\n",
       "      <th>27</th>\n",
       "      <td>NF011</td>\n",
       "      <td>Municipalidad de Guayaquil</td>\n",
       "    </tr>\n",
       "    <tr>\n",
       "      <th>28</th>\n",
       "      <td>NF011</td>\n",
       "      <td>UNIDAD DE ANÁLISIS FINANCIERO Y ECONÓMICO UAFE</td>\n",
       "    </tr>\n",
       "    <tr>\n",
       "      <th>29</th>\n",
       "      <td>NF011</td>\n",
       "      <td>UNIVERSIDAD DE CUENCA</td>\n",
       "    </tr>\n",
       "    <tr>\n",
       "      <th>30</th>\n",
       "      <td>NF011</td>\n",
       "      <td>comando provincial de la policia del guayas nr...</td>\n",
       "    </tr>\n",
       "  </tbody>\n",
       "</table>\n",
       "</div>"
      ],
      "text/plain": [
       "   Red Flag                               procuringEntity_name\n",
       "0     NF011                         BANCO CENTRAL DEL ECUADOR \n",
       "1     NF011  CONSEJO DE GOBIERNO DEL REGIMEN ESPECIAL DE GA...\n",
       "2     NF011         CORPORACION ELECTRICA DEL ECUADOR CELEC EP\n",
       "3     NF011        CORPORACION ELECTRICA DEL ECUADOR CELEC EP.\n",
       "4     NF011                CUERPO DE INGENIEROS DEL EJERCITO  \n",
       "5     NF011    DIRECCION DISTRITAL 02D01-GUARANDA-BOLIVAR-MTOP\n",
       "6     NF011  DIRECCION DISTRITAL 13D01 - PORTOVIEJO - MANAB...\n",
       "7     NF011  DIRECCION DISTRITAL 21D02C01-NUEVA LOJA-SUCUMB...\n",
       "8     NF011               DIRECCION NACIONAL DE ANTINARCOTICOS\n",
       "9     NF011          EMPRESA ELECTRICA REGIONAL CENTROSUR C.A.\n",
       "10    NF011  EMPRESA ELÉCTRICA PÚBLICA ESTRATÉGICA CORPORAC...\n",
       "11    NF011                EMPRESA ELÉCTRICA QUITO S.A. E.E.Q.\n",
       "12    NF011  EMPRESA PÙBLICA MUNICIPAL DE AGUA POTABLE, Y A...\n",
       "13    NF011  EMPRESA PÚBLICA CENTROS DE ENTRENAMIENTO PARA ...\n",
       "14    NF011  Empresa Pública Metropolitana de Agua Potable ...\n",
       "15    NF011  Empresa Pública de hidrocarburos del Ecuador E...\n",
       "16    NF011  Fundacion Municipal de Transporte Masivo Urban...\n",
       "17    NF011  GOBIERNO AUTONOMO DESCENTRALIZADO DE LA PROVIN...\n",
       "18    NF011  GOBIERNO AUTONOMO DESCENTRALIZADO DE LA PROVIN...\n",
       "19    NF011  GOBIERNO AUTONOMO DESCENTRALIZADO MUNICIPAL DE...\n",
       "20    NF011  GOBIERNO AUTONOMO DESCENTRALIZADO MUNICIPAL DE...\n",
       "21    NF011  GOBIERNO AUTONOMO DESCENTRALIZADO PARROQUIAL D...\n",
       "22    NF011                         GOBIERNO MUNICIPAL DE MERA\n",
       "23    NF011                    GOBIERNO PROVINCIAL DE LOS RIOS\n",
       "24    NF011                     Gobierno Provincial del Guayas\n",
       "25    NF011  Guayaquil Siglo XXI, Fundación Municipal para ...\n",
       "26    NF011                           MUNICIPIO DE MONTECRISTI\n",
       "27    NF011                         Municipalidad de Guayaquil\n",
       "28    NF011     UNIDAD DE ANÁLISIS FINANCIERO Y ECONÓMICO UAFE\n",
       "29    NF011                              UNIVERSIDAD DE CUENCA\n",
       "30    NF011  comando provincial de la policia del guayas nr..."
      ]
     },
     "execution_count": 48,
     "metadata": {},
     "output_type": "execute_result"
    }
   ],
   "source": [
    "df_NF011 = NF011()\n",
    "df_NF011['Red Flag'] = 'NF011'\n",
    "df_NF011 = df_NF011.iloc[:,::-1]\n",
    "df_NF011"
   ]
  },
  {
   "cell_type": "code",
   "execution_count": 49,
   "metadata": {},
   "outputs": [
    {
     "data": {
      "text/html": [
       "<div>\n",
       "<style scoped>\n",
       "    .dataframe tbody tr th:only-of-type {\n",
       "        vertical-align: middle;\n",
       "    }\n",
       "\n",
       "    .dataframe tbody tr th {\n",
       "        vertical-align: top;\n",
       "    }\n",
       "\n",
       "    .dataframe thead th {\n",
       "        text-align: right;\n",
       "    }\n",
       "</style>\n",
       "<table border=\"1\" class=\"dataframe\">\n",
       "  <thead>\n",
       "    <tr style=\"text-align: right;\">\n",
       "      <th></th>\n",
       "      <th>Red Flag</th>\n",
       "      <th>procuringEntity_name</th>\n",
       "    </tr>\n",
       "  </thead>\n",
       "  <tbody>\n",
       "    <tr>\n",
       "      <th>0</th>\n",
       "      <td>NF019</td>\n",
       "      <td>MINISTERIO DE TURISMO</td>\n",
       "    </tr>\n",
       "    <tr>\n",
       "      <th>1</th>\n",
       "      <td>NF019</td>\n",
       "      <td>GOBIERNO AUTONOMO DESCENTRALIZADO MUNICIPAL DE...</td>\n",
       "    </tr>\n",
       "    <tr>\n",
       "      <th>2</th>\n",
       "      <td>NF019</td>\n",
       "      <td>GOBIERNO PROVINCIAL DE LOS RIOS</td>\n",
       "    </tr>\n",
       "    <tr>\n",
       "      <th>3</th>\n",
       "      <td>NF019</td>\n",
       "      <td>CUERPO DE BOMBEROS DEL CANTÓN OTAVALO</td>\n",
       "    </tr>\n",
       "    <tr>\n",
       "      <th>4</th>\n",
       "      <td>NF019</td>\n",
       "      <td>DIRECCION DISTRITAL 13D10-JAMA-PEDERNALES-EDUC...</td>\n",
       "    </tr>\n",
       "    <tr>\n",
       "      <th>...</th>\n",
       "      <td>...</td>\n",
       "      <td>...</td>\n",
       "    </tr>\n",
       "    <tr>\n",
       "      <th>109</th>\n",
       "      <td>NF019</td>\n",
       "      <td>UNIDAD DE ANÁLISIS FINANCIERO Y ECONÓMICO UAFE</td>\n",
       "    </tr>\n",
       "    <tr>\n",
       "      <th>110</th>\n",
       "      <td>NF019</td>\n",
       "      <td>MINISTERIO DE GOBIERNO</td>\n",
       "    </tr>\n",
       "    <tr>\n",
       "      <th>111</th>\n",
       "      <td>NF019</td>\n",
       "      <td>MUNICIPIO DE BALAO</td>\n",
       "    </tr>\n",
       "    <tr>\n",
       "      <th>112</th>\n",
       "      <td>NF019</td>\n",
       "      <td>MUNICIPIO DE MEJIA</td>\n",
       "    </tr>\n",
       "    <tr>\n",
       "      <th>113</th>\n",
       "      <td>NF019</td>\n",
       "      <td>GOBIERNO AUTONOMO DESCENTRALIZADO PARROQUIAL D...</td>\n",
       "    </tr>\n",
       "  </tbody>\n",
       "</table>\n",
       "<p>114 rows × 2 columns</p>\n",
       "</div>"
      ],
      "text/plain": [
       "    Red Flag                               procuringEntity_name\n",
       "0      NF019                              MINISTERIO DE TURISMO\n",
       "1      NF019  GOBIERNO AUTONOMO DESCENTRALIZADO MUNICIPAL DE...\n",
       "2      NF019                    GOBIERNO PROVINCIAL DE LOS RIOS\n",
       "3      NF019              CUERPO DE BOMBEROS DEL CANTÓN OTAVALO\n",
       "4      NF019  DIRECCION DISTRITAL 13D10-JAMA-PEDERNALES-EDUC...\n",
       "..       ...                                                ...\n",
       "109    NF019     UNIDAD DE ANÁLISIS FINANCIERO Y ECONÓMICO UAFE\n",
       "110    NF019                             MINISTERIO DE GOBIERNO\n",
       "111    NF019                                 MUNICIPIO DE BALAO\n",
       "112    NF019                                 MUNICIPIO DE MEJIA\n",
       "113    NF019  GOBIERNO AUTONOMO DESCENTRALIZADO PARROQUIAL D...\n",
       "\n",
       "[114 rows x 2 columns]"
      ]
     },
     "execution_count": 49,
     "metadata": {},
     "output_type": "execute_result"
    }
   ],
   "source": [
    "df_NF019 = NF019()\n",
    "df_NF019['Red Flag'] = 'NF019'\n",
    "df_NF019 = df_NF019.iloc[:,::-1]\n",
    "df_NF019"
   ]
  },
  {
   "cell_type": "code",
   "execution_count": 50,
   "metadata": {
    "scrolled": false
   },
   "outputs": [],
   "source": [
    "df_ocid = df_ocid.merge(tender[['ocid', 'procuringEntity_name']], on='ocid')\n",
    "df_ocid.drop(columns=['ocid'], inplace=True)"
   ]
  },
  {
   "cell_type": "code",
   "execution_count": 51,
   "metadata": {},
   "outputs": [
    {
     "data": {
      "text/html": [
       "<div>\n",
       "<style scoped>\n",
       "    .dataframe tbody tr th:only-of-type {\n",
       "        vertical-align: middle;\n",
       "    }\n",
       "\n",
       "    .dataframe tbody tr th {\n",
       "        vertical-align: top;\n",
       "    }\n",
       "\n",
       "    .dataframe thead th {\n",
       "        text-align: right;\n",
       "    }\n",
       "</style>\n",
       "<table border=\"1\" class=\"dataframe\">\n",
       "  <thead>\n",
       "    <tr style=\"text-align: right;\">\n",
       "      <th></th>\n",
       "      <th>Red Flag</th>\n",
       "      <th>procuringEntity_name</th>\n",
       "    </tr>\n",
       "  </thead>\n",
       "  <tbody>\n",
       "    <tr>\n",
       "      <th>0</th>\n",
       "      <td>NF003</td>\n",
       "      <td>Empresa Pública de Áridos y Asfaltos del Azuay</td>\n",
       "    </tr>\n",
       "    <tr>\n",
       "      <th>1</th>\n",
       "      <td>NF018</td>\n",
       "      <td>Empresa Pública de Áridos y Asfaltos del Azuay</td>\n",
       "    </tr>\n",
       "    <tr>\n",
       "      <th>2</th>\n",
       "      <td>NF047</td>\n",
       "      <td>Empresa Pública de Áridos y Asfaltos del Azuay</td>\n",
       "    </tr>\n",
       "    <tr>\n",
       "      <th>3</th>\n",
       "      <td>NF062</td>\n",
       "      <td>Empresa Pública de Áridos y Asfaltos del Azuay</td>\n",
       "    </tr>\n",
       "    <tr>\n",
       "      <th>4</th>\n",
       "      <td>NF003</td>\n",
       "      <td>GOBIERNO AUTONOMO DESCENTRALIZADO MUNICIPAL DE...</td>\n",
       "    </tr>\n",
       "    <tr>\n",
       "      <th>...</th>\n",
       "      <td>...</td>\n",
       "      <td>...</td>\n",
       "    </tr>\n",
       "    <tr>\n",
       "      <th>109</th>\n",
       "      <td>NF019</td>\n",
       "      <td>UNIDAD DE ANÁLISIS FINANCIERO Y ECONÓMICO UAFE</td>\n",
       "    </tr>\n",
       "    <tr>\n",
       "      <th>110</th>\n",
       "      <td>NF019</td>\n",
       "      <td>MINISTERIO DE GOBIERNO</td>\n",
       "    </tr>\n",
       "    <tr>\n",
       "      <th>111</th>\n",
       "      <td>NF019</td>\n",
       "      <td>MUNICIPIO DE BALAO</td>\n",
       "    </tr>\n",
       "    <tr>\n",
       "      <th>112</th>\n",
       "      <td>NF019</td>\n",
       "      <td>MUNICIPIO DE MEJIA</td>\n",
       "    </tr>\n",
       "    <tr>\n",
       "      <th>113</th>\n",
       "      <td>NF019</td>\n",
       "      <td>GOBIERNO AUTONOMO DESCENTRALIZADO PARROQUIAL D...</td>\n",
       "    </tr>\n",
       "  </tbody>\n",
       "</table>\n",
       "<p>11380 rows × 2 columns</p>\n",
       "</div>"
      ],
      "text/plain": [
       "    Red Flag                               procuringEntity_name\n",
       "0      NF003     Empresa Pública de Áridos y Asfaltos del Azuay\n",
       "1      NF018     Empresa Pública de Áridos y Asfaltos del Azuay\n",
       "2      NF047     Empresa Pública de Áridos y Asfaltos del Azuay\n",
       "3      NF062     Empresa Pública de Áridos y Asfaltos del Azuay\n",
       "4      NF003  GOBIERNO AUTONOMO DESCENTRALIZADO MUNICIPAL DE...\n",
       "..       ...                                                ...\n",
       "109    NF019     UNIDAD DE ANÁLISIS FINANCIERO Y ECONÓMICO UAFE\n",
       "110    NF019                             MINISTERIO DE GOBIERNO\n",
       "111    NF019                                 MUNICIPIO DE BALAO\n",
       "112    NF019                                 MUNICIPIO DE MEJIA\n",
       "113    NF019  GOBIERNO AUTONOMO DESCENTRALIZADO PARROQUIAL D...\n",
       "\n",
       "[11380 rows x 2 columns]"
      ]
     },
     "execution_count": 51,
     "metadata": {},
     "output_type": "execute_result"
    }
   ],
   "source": [
    "df_ocid = pd.concat([df_ocid, df_NF011,df_NF019])\n",
    "df_ocid"
   ]
  },
  {
   "cell_type": "code",
   "execution_count": 52,
   "metadata": {},
   "outputs": [],
   "source": [
    "dummies = pd.get_dummies(df_ocid['Red Flag'])\n",
    "df_ocid[dummies.columns] = dummies"
   ]
  },
  {
   "cell_type": "code",
   "execution_count": 53,
   "metadata": {
    "scrolled": true
   },
   "outputs": [],
   "source": [
    "red_flags_names = df_ocid.iloc[:,2:].columns.tolist()"
   ]
  },
  {
   "cell_type": "code",
   "execution_count": 54,
   "metadata": {},
   "outputs": [
    {
     "data": {
      "text/plain": [
       "['NF003',\n",
       " 'NF010',\n",
       " 'NF011',\n",
       " 'NF016',\n",
       " 'NF018',\n",
       " 'NF019',\n",
       " 'NF026',\n",
       " 'NF027',\n",
       " 'NF031',\n",
       " 'NF042',\n",
       " 'NF044',\n",
       " 'NF047',\n",
       " 'NF059',\n",
       " 'NF061',\n",
       " 'NF062',\n",
       " 'NF063']"
      ]
     },
     "execution_count": 54,
     "metadata": {},
     "output_type": "execute_result"
    }
   ],
   "source": [
    "red_flags_names"
   ]
  },
  {
   "cell_type": "code",
   "execution_count": 55,
   "metadata": {
    "scrolled": true
   },
   "outputs": [
    {
     "data": {
      "text/html": [
       "<div>\n",
       "<style scoped>\n",
       "    .dataframe tbody tr th:only-of-type {\n",
       "        vertical-align: middle;\n",
       "    }\n",
       "\n",
       "    .dataframe tbody tr th {\n",
       "        vertical-align: top;\n",
       "    }\n",
       "\n",
       "    .dataframe thead th {\n",
       "        text-align: right;\n",
       "    }\n",
       "</style>\n",
       "<table border=\"1\" class=\"dataframe\">\n",
       "  <thead>\n",
       "    <tr style=\"text-align: right;\">\n",
       "      <th></th>\n",
       "      <th>procuringEntity_name</th>\n",
       "      <th>NF003</th>\n",
       "      <th>NF010</th>\n",
       "      <th>NF011</th>\n",
       "      <th>NF016</th>\n",
       "      <th>NF018</th>\n",
       "      <th>NF019</th>\n",
       "      <th>NF026</th>\n",
       "      <th>NF027</th>\n",
       "      <th>NF031</th>\n",
       "      <th>NF042</th>\n",
       "      <th>NF044</th>\n",
       "      <th>NF047</th>\n",
       "      <th>NF059</th>\n",
       "      <th>NF061</th>\n",
       "      <th>NF062</th>\n",
       "      <th>NF063</th>\n",
       "    </tr>\n",
       "  </thead>\n",
       "  <tbody>\n",
       "    <tr>\n",
       "      <th>0</th>\n",
       "      <td>ACCION SOCIAL COMO ENTIDAD DE INCLUSION SOCIAL...</td>\n",
       "      <td>0</td>\n",
       "      <td>0</td>\n",
       "      <td>0</td>\n",
       "      <td>0</td>\n",
       "      <td>0</td>\n",
       "      <td>0</td>\n",
       "      <td>0</td>\n",
       "      <td>0</td>\n",
       "      <td>0</td>\n",
       "      <td>0</td>\n",
       "      <td>0</td>\n",
       "      <td>1</td>\n",
       "      <td>0</td>\n",
       "      <td>0</td>\n",
       "      <td>0</td>\n",
       "      <td>0</td>\n",
       "    </tr>\n",
       "    <tr>\n",
       "      <th>1</th>\n",
       "      <td>ACERIAS NACIONALES DEL ECUADOR SOCIEDAD ANONIM...</td>\n",
       "      <td>2</td>\n",
       "      <td>0</td>\n",
       "      <td>0</td>\n",
       "      <td>0</td>\n",
       "      <td>0</td>\n",
       "      <td>1</td>\n",
       "      <td>1</td>\n",
       "      <td>1</td>\n",
       "      <td>0</td>\n",
       "      <td>2</td>\n",
       "      <td>0</td>\n",
       "      <td>3</td>\n",
       "      <td>1</td>\n",
       "      <td>1</td>\n",
       "      <td>2</td>\n",
       "      <td>0</td>\n",
       "    </tr>\n",
       "    <tr>\n",
       "      <th>2</th>\n",
       "      <td>AGENCIA DE REGULACIÓN Y CONTROL FITO Y ZOOSANI...</td>\n",
       "      <td>0</td>\n",
       "      <td>0</td>\n",
       "      <td>0</td>\n",
       "      <td>0</td>\n",
       "      <td>0</td>\n",
       "      <td>0</td>\n",
       "      <td>0</td>\n",
       "      <td>0</td>\n",
       "      <td>0</td>\n",
       "      <td>24</td>\n",
       "      <td>0</td>\n",
       "      <td>49</td>\n",
       "      <td>0</td>\n",
       "      <td>0</td>\n",
       "      <td>0</td>\n",
       "      <td>0</td>\n",
       "    </tr>\n",
       "    <tr>\n",
       "      <th>3</th>\n",
       "      <td>AGENCIA NACIONAL DE REGULACION, CONTROL Y VIGI...</td>\n",
       "      <td>0</td>\n",
       "      <td>0</td>\n",
       "      <td>0</td>\n",
       "      <td>0</td>\n",
       "      <td>0</td>\n",
       "      <td>0</td>\n",
       "      <td>0</td>\n",
       "      <td>0</td>\n",
       "      <td>0</td>\n",
       "      <td>3</td>\n",
       "      <td>0</td>\n",
       "      <td>6</td>\n",
       "      <td>0</td>\n",
       "      <td>0</td>\n",
       "      <td>0</td>\n",
       "      <td>0</td>\n",
       "    </tr>\n",
       "    <tr>\n",
       "      <th>4</th>\n",
       "      <td>AGENCIA NACIONAL DE REGULACIÓN Y CONTROL DEL T...</td>\n",
       "      <td>2</td>\n",
       "      <td>0</td>\n",
       "      <td>0</td>\n",
       "      <td>0</td>\n",
       "      <td>0</td>\n",
       "      <td>1</td>\n",
       "      <td>1</td>\n",
       "      <td>0</td>\n",
       "      <td>0</td>\n",
       "      <td>1</td>\n",
       "      <td>0</td>\n",
       "      <td>2</td>\n",
       "      <td>0</td>\n",
       "      <td>0</td>\n",
       "      <td>2</td>\n",
       "      <td>0</td>\n",
       "    </tr>\n",
       "    <tr>\n",
       "      <th>...</th>\n",
       "      <td>...</td>\n",
       "      <td>...</td>\n",
       "      <td>...</td>\n",
       "      <td>...</td>\n",
       "      <td>...</td>\n",
       "      <td>...</td>\n",
       "      <td>...</td>\n",
       "      <td>...</td>\n",
       "      <td>...</td>\n",
       "      <td>...</td>\n",
       "      <td>...</td>\n",
       "      <td>...</td>\n",
       "      <td>...</td>\n",
       "      <td>...</td>\n",
       "      <td>...</td>\n",
       "      <td>...</td>\n",
       "      <td>...</td>\n",
       "    </tr>\n",
       "    <tr>\n",
       "      <th>1366</th>\n",
       "      <td>junta parroquial de cuyuja</td>\n",
       "      <td>0</td>\n",
       "      <td>0</td>\n",
       "      <td>0</td>\n",
       "      <td>0</td>\n",
       "      <td>0</td>\n",
       "      <td>0</td>\n",
       "      <td>0</td>\n",
       "      <td>0</td>\n",
       "      <td>0</td>\n",
       "      <td>0</td>\n",
       "      <td>0</td>\n",
       "      <td>1</td>\n",
       "      <td>0</td>\n",
       "      <td>0</td>\n",
       "      <td>0</td>\n",
       "      <td>0</td>\n",
       "    </tr>\n",
       "    <tr>\n",
       "      <th>1367</th>\n",
       "      <td>junta parroquial la tola</td>\n",
       "      <td>0</td>\n",
       "      <td>0</td>\n",
       "      <td>0</td>\n",
       "      <td>0</td>\n",
       "      <td>0</td>\n",
       "      <td>0</td>\n",
       "      <td>0</td>\n",
       "      <td>0</td>\n",
       "      <td>0</td>\n",
       "      <td>0</td>\n",
       "      <td>0</td>\n",
       "      <td>3</td>\n",
       "      <td>0</td>\n",
       "      <td>0</td>\n",
       "      <td>0</td>\n",
       "      <td>0</td>\n",
       "    </tr>\n",
       "    <tr>\n",
       "      <th>1368</th>\n",
       "      <td>juntaparroquialbuenavista</td>\n",
       "      <td>0</td>\n",
       "      <td>0</td>\n",
       "      <td>0</td>\n",
       "      <td>0</td>\n",
       "      <td>0</td>\n",
       "      <td>0</td>\n",
       "      <td>0</td>\n",
       "      <td>0</td>\n",
       "      <td>0</td>\n",
       "      <td>1</td>\n",
       "      <td>0</td>\n",
       "      <td>3</td>\n",
       "      <td>0</td>\n",
       "      <td>0</td>\n",
       "      <td>0</td>\n",
       "      <td>0</td>\n",
       "    </tr>\n",
       "    <tr>\n",
       "      <th>1369</th>\n",
       "      <td>juntaparroquialsalango</td>\n",
       "      <td>0</td>\n",
       "      <td>0</td>\n",
       "      <td>0</td>\n",
       "      <td>0</td>\n",
       "      <td>0</td>\n",
       "      <td>0</td>\n",
       "      <td>0</td>\n",
       "      <td>0</td>\n",
       "      <td>0</td>\n",
       "      <td>0</td>\n",
       "      <td>0</td>\n",
       "      <td>1</td>\n",
       "      <td>0</td>\n",
       "      <td>0</td>\n",
       "      <td>0</td>\n",
       "      <td>0</td>\n",
       "    </tr>\n",
       "    <tr>\n",
       "      <th>1370</th>\n",
       "      <td>museo y parque arqueologico pumapungo</td>\n",
       "      <td>0</td>\n",
       "      <td>0</td>\n",
       "      <td>0</td>\n",
       "      <td>0</td>\n",
       "      <td>0</td>\n",
       "      <td>0</td>\n",
       "      <td>0</td>\n",
       "      <td>0</td>\n",
       "      <td>0</td>\n",
       "      <td>0</td>\n",
       "      <td>0</td>\n",
       "      <td>1</td>\n",
       "      <td>0</td>\n",
       "      <td>0</td>\n",
       "      <td>0</td>\n",
       "      <td>0</td>\n",
       "    </tr>\n",
       "  </tbody>\n",
       "</table>\n",
       "<p>1371 rows × 17 columns</p>\n",
       "</div>"
      ],
      "text/plain": [
       "                                   procuringEntity_name  NF003  NF010  NF011  \\\n",
       "0     ACCION SOCIAL COMO ENTIDAD DE INCLUSION SOCIAL...      0      0      0   \n",
       "1     ACERIAS NACIONALES DEL ECUADOR SOCIEDAD ANONIM...      2      0      0   \n",
       "2     AGENCIA DE REGULACIÓN Y CONTROL FITO Y ZOOSANI...      0      0      0   \n",
       "3     AGENCIA NACIONAL DE REGULACION, CONTROL Y VIGI...      0      0      0   \n",
       "4     AGENCIA NACIONAL DE REGULACIÓN Y CONTROL DEL T...      2      0      0   \n",
       "...                                                 ...    ...    ...    ...   \n",
       "1366                         junta parroquial de cuyuja      0      0      0   \n",
       "1367                           junta parroquial la tola      0      0      0   \n",
       "1368                          juntaparroquialbuenavista      0      0      0   \n",
       "1369                             juntaparroquialsalango      0      0      0   \n",
       "1370              museo y parque arqueologico pumapungo      0      0      0   \n",
       "\n",
       "      NF016  NF018  NF019  NF026  NF027  NF031  NF042  NF044  NF047  NF059  \\\n",
       "0         0      0      0      0      0      0      0      0      1      0   \n",
       "1         0      0      1      1      1      0      2      0      3      1   \n",
       "2         0      0      0      0      0      0     24      0     49      0   \n",
       "3         0      0      0      0      0      0      3      0      6      0   \n",
       "4         0      0      1      1      0      0      1      0      2      0   \n",
       "...     ...    ...    ...    ...    ...    ...    ...    ...    ...    ...   \n",
       "1366      0      0      0      0      0      0      0      0      1      0   \n",
       "1367      0      0      0      0      0      0      0      0      3      0   \n",
       "1368      0      0      0      0      0      0      1      0      3      0   \n",
       "1369      0      0      0      0      0      0      0      0      1      0   \n",
       "1370      0      0      0      0      0      0      0      0      1      0   \n",
       "\n",
       "      NF061  NF062  NF063  \n",
       "0         0      0      0  \n",
       "1         1      2      0  \n",
       "2         0      0      0  \n",
       "3         0      0      0  \n",
       "4         0      2      0  \n",
       "...     ...    ...    ...  \n",
       "1366      0      0      0  \n",
       "1367      0      0      0  \n",
       "1368      0      0      0  \n",
       "1369      0      0      0  \n",
       "1370      0      0      0  \n",
       "\n",
       "[1371 rows x 17 columns]"
      ]
     },
     "execution_count": 55,
     "metadata": {},
     "output_type": "execute_result"
    }
   ],
   "source": [
    "df_ocid = df_ocid.groupby('procuringEntity_name')[red_flags_names].sum().reset_index()\n",
    "df_ocid"
   ]
  },
  {
   "cell_type": "markdown",
   "metadata": {},
   "source": [
    "#DataFrame without duplicate ocids. The clustering is going to be made based on it.\n",
    "red_flags = pd.DataFrame(df_ocid['ocid'])\n",
    "red_flags_names = df.iloc[:,1:-4].columns.tolist()\n",
    "red_flags = df.groupby('procuringEntity_name')[red_flags_names].sum().reset_index()\n",
    "\n",
    "red_flags.drop_duplicates(inplace=True)\n",
    "red_flags = red_flags.reset_index(drop=True)"
   ]
  },
  {
   "cell_type": "markdown",
   "metadata": {},
   "source": [
    "for code in dummies.columns:\n",
    "    df_temp = df_ocid.groupby('ocid')[code].sum().reset_index() \n",
    "    red_flags = red_flags.merge(df_temp, on='ocid')"
   ]
  },
  {
   "cell_type": "markdown",
   "metadata": {
    "scrolled": false
   },
   "source": [
    "red_flags = red_flags.merge(tender[['ocid', 'procuringEntity_name']], on='ocid')\n",
    "red_flags"
   ]
  },
  {
   "cell_type": "code",
   "execution_count": 56,
   "metadata": {},
   "outputs": [],
   "source": [
    "df_ocid.to_csv('../Data_output/red_flags.csv')"
   ]
  },
  {
   "cell_type": "markdown",
   "metadata": {},
   "source": [
    "## Preguntas para análisis"
   ]
  },
  {
   "cell_type": "markdown",
   "metadata": {},
   "source": [
    "#### Pregunta: Para 2019 pre-pandemia, ¿qué meses del año presentaron más días de retraso en la firma de contratos de licitación?"
   ]
  },
  {
   "cell_type": "code",
   "execution_count": null,
   "metadata": {},
   "outputs": [],
   "source": [
    "df_NF061 = NF061()"
   ]
  },
  {
   "cell_type": "code",
   "execution_count": null,
   "metadata": {},
   "outputs": [],
   "source": [
    "df_NF061.drop(['contracts_dateSigned', 'date'], axis=1, inplace=True)"
   ]
  },
  {
   "cell_type": "code",
   "execution_count": null,
   "metadata": {},
   "outputs": [],
   "source": [
    "df_NF061 = df_NF061.merge(releases[['ocid', 'date']], on ='ocid')"
   ]
  },
  {
   "cell_type": "code",
   "execution_count": null,
   "metadata": {},
   "outputs": [],
   "source": [
    "df_NF061['date'] = pd.to_datetime(df_NF061['date']).dt.date\n",
    "df_NF061['date'] = pd.to_datetime(df_NF061['date'])"
   ]
  },
  {
   "cell_type": "code",
   "execution_count": null,
   "metadata": {},
   "outputs": [],
   "source": [
    "df_NF061 = df_NF061.sort_values(by='date')"
   ]
  },
  {
   "cell_type": "code",
   "execution_count": null,
   "metadata": {},
   "outputs": [],
   "source": [
    "dfg = df_NF061.groupby(pd.Grouper(key='date', freq='M'))['contract_period'].mean().reset_index()"
   ]
  },
  {
   "cell_type": "code",
   "execution_count": null,
   "metadata": {},
   "outputs": [],
   "source": [
    "dfg['month'] = dfg['date'].dt.month_name()"
   ]
  },
  {
   "cell_type": "code",
   "execution_count": null,
   "metadata": {},
   "outputs": [],
   "source": [
    "dfg = dfg[dfg['contract_period'].notnull()]"
   ]
  },
  {
   "cell_type": "code",
   "execution_count": null,
   "metadata": {
    "scrolled": true
   },
   "outputs": [],
   "source": [
    "dfg"
   ]
  },
  {
   "cell_type": "code",
   "execution_count": null,
   "metadata": {
    "scrolled": true
   },
   "outputs": [],
   "source": [
    "sns.set_theme(style=\"darkgrid\")\n",
    "fig,ax = plt.subplots(figsize=(8,8))\n",
    "sns.lineplot(data=dfg, x = \"month\", y = \"contract_period\",ax = ax, marker = \"v\", color = \"b\",linestyle=\"-.\")\n",
    "_=plt.xticks(rotation=90)\n",
    "ax.set_xlabel(\"Meses\")\n",
    "ax.set_ylabel(\"Días de retraso en contratos\")"
   ]
  },
  {
   "cell_type": "markdown",
   "metadata": {},
   "source": [
    "#### ¿Que licitadores presentan mayor retraso en la firma de licitaciones?"
   ]
  },
  {
   "cell_type": "code",
   "execution_count": null,
   "metadata": {},
   "outputs": [],
   "source": [
    "df_NF061 = df_NF061.merge(tender[['ocid', 'procuringEntity_name']], on='ocid')"
   ]
  },
  {
   "cell_type": "code",
   "execution_count": null,
   "metadata": {},
   "outputs": [],
   "source": [
    "dfg2 = df_NF061.groupby('procuringEntity_name')['contract_period'].mean().reset_index()"
   ]
  },
  {
   "cell_type": "code",
   "execution_count": null,
   "metadata": {},
   "outputs": [],
   "source": [
    "dfg2.sort_values(by='contract_period', ascending = False, inplace = True)"
   ]
  },
  {
   "cell_type": "code",
   "execution_count": null,
   "metadata": {},
   "outputs": [],
   "source": [
    "dfg2"
   ]
  },
  {
   "cell_type": "code",
   "execution_count": null,
   "metadata": {},
   "outputs": [],
   "source": [
    "sns.set_theme(style=\"darkgrid\")\n",
    "fig,ax = plt.subplots(figsize=(10,8))\n",
    "sns.barplot(data=dfg2, y = \"procuringEntity_name\", x = \"contract_period\",ax = ax)\n",
    "_=plt.xticks(rotation=90)\n",
    "ax.set_ylabel(\"Entidad\")\n",
    "ax.set_xlabel(\"Promedio de días de retraso\")"
   ]
  },
  {
   "cell_type": "code",
   "execution_count": null,
   "metadata": {},
   "outputs": [],
   "source": []
  }
 ],
 "metadata": {
  "kernelspec": {
   "display_name": "Python 3",
   "language": "python",
   "name": "python3"
  },
  "language_info": {
   "codemirror_mode": {
    "name": "ipython",
    "version": 3
   },
   "file_extension": ".py",
   "mimetype": "text/x-python",
   "name": "python",
   "nbconvert_exporter": "python",
   "pygments_lexer": "ipython3",
   "version": "3.7.0"
  }
 },
 "nbformat": 4,
 "nbformat_minor": 5
}
